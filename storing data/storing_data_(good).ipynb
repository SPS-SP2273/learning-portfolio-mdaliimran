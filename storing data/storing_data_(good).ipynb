{
 "cells": [
  {
   "cell_type": "markdown",
   "id": "123456",
   "metadata": {},
   "source": [
    "<div style=\"text-align:left;font-size:2em\"><span style=\"font-weight:bolder;font-size:1.25em\">SP2273 | Learning Portfolio</span><br><br><span style=\"font-weight:bold;color:darkred\">Storing Data (Good)</span></div>"
   ]
  },
  {
   "cell_type": "markdown",
   "id": "9a796c3d",
   "metadata": {},
   "source": [
    "## 1 Subsetting: Indexing and Slicing"
   ]
  },
  {
   "cell_type": "markdown",
   "id": "8f944369",
   "metadata": {},
   "source": [
    "### 1.1 Indexing & Slicing 1D (Lists & Arrays)"
   ]
  },
  {
   "cell_type": "code",
   "execution_count": 1,
   "id": "0ee50447",
   "metadata": {},
   "outputs": [
    {
     "name": "stdout",
     "output_type": "stream",
     "text": [
      "[1, 2, 3, 4, 5]\n",
      "[1 2 3 4 5]\n",
      "[5, 4, 3, 2, 1]\n",
      "[5 4 3 2 1]\n",
      "[2, 4]\n",
      "[2 4]\n"
     ]
    }
   ],
   "source": [
    "#Subsetting is the process of selecting a subset \n",
    "\n",
    "#Indexing and Slicing are 2 means of which you can select your subset\n",
    "\n",
    "#[x : y : z]\n",
    "\n",
    "#x = start, y = end(inclusive), z = step\n",
    "\n",
    "import numpy as np\n",
    "\n",
    "list_1 = [1,2,3,4,5]\n",
    "array_1 = np.array(list_1)\n",
    "\n",
    "print(list_1[::])\n",
    "\n",
    "print(array_1[::])\n",
    "\n",
    "print(list_1[::-1])\n",
    "\n",
    "print(array_1[::-1])\n",
    "\n",
    "print(list_1[1::2])\n",
    "\n",
    "print(array_1[1::2])"
   ]
  },
  {
   "cell_type": "markdown",
   "id": "809d9a81",
   "metadata": {},
   "source": [
    "### 1.2 Subsetting by masking (Arrays only)"
   ]
  },
  {
   "cell_type": "code",
   "execution_count": 15,
   "id": "1134e9ef",
   "metadata": {},
   "outputs": [
    {
     "name": "stdout",
     "output_type": "stream",
     "text": [
      "[False False  True  True  True  True]\n",
      "[3 4 5 6]\n",
      "[3 4 5 6]\n",
      "[1 2]\n",
      "[3 4]\n",
      "[1 2 3 4 5 6]\n"
     ]
    }
   ],
   "source": [
    "array_1 = np.array([1,2,3,4,5,6])\n",
    "\n",
    "mask_a1 = (array_1 > 2)\n",
    "\n",
    "print(mask_a1)\n",
    "\n",
    "#Subsetting by masking only reveals the true data type\n",
    "\n",
    "print(array_1[mask_a1])\n",
    "\n",
    "#or a more succint approach \n",
    "\n",
    "print(array_1[array_1 > 2])\n",
    "\n",
    "#Bitwise operators can also be implemented\n",
    "\n",
    "print(array_1[~(array_1>2)]) #~ refers to not\n",
    "\n",
    "print(array_1[(array_1>2)&(array_1<5)]) #& refers to and \n",
    "\n",
    "print(array_1[(array_1>2)|(array_1 <5)]) #| refers to or\n",
    "\n"
   ]
  },
  {
   "cell_type": "markdown",
   "id": "bc05822b",
   "metadata": {},
   "source": [
    "### 1.3 Indexing & Slicing 2D Lists"
   ]
  },
  {
   "cell_type": "code",
   "execution_count": 41,
   "id": "a3f0938d",
   "metadata": {},
   "outputs": [
    {
     "name": "stdout",
     "output_type": "stream",
     "text": [
      "[4, 5, 6]\n",
      "6\n",
      "[[1, 2, 3], [4, 5, 6]]\n",
      "[1, 2, 3]\n",
      "[7, 8, 9]\n",
      "   \n"
     ]
    }
   ],
   "source": [
    "#Lists\n",
    "\n",
    "list_1 = [[1,2,3],[4,5,6],[7,8,9]]\n",
    "\n",
    "print(list_1[1])\n",
    "\n",
    "print(list_1[1][-1])\n",
    "\n",
    "print(list_1[:2])\n",
    "\n",
    "print(list_1[:2][0])\n",
    "\n",
    "print(list_1[::-1][0])\n",
    "\n",
    "print(\"   \")\n",
    "\n",
    "\n",
    "\n",
    "\n"
   ]
  },
  {
   "cell_type": "markdown",
   "id": "7a01da4b",
   "metadata": {},
   "source": [
    "### 1.4 Indexing & Slicing 2D Arrays"
   ]
  },
  {
   "cell_type": "code",
   "execution_count": 42,
   "id": "035b4f41",
   "metadata": {},
   "outputs": [
    {
     "name": "stdout",
     "output_type": "stream",
     "text": [
      "[1 2 3]\n",
      "1\n",
      "[[1 2 3]\n",
      " [4 5 6]]\n",
      "[1 4]\n",
      "[9 6 3]\n"
     ]
    }
   ],
   "source": [
    "#Arrays\n",
    "\n",
    "array_1 = np.array(list_1)\n",
    "\n",
    "print(array_1[0])\n",
    "\n",
    "print(array_1[0,0]) #unlike lists, everything is enclosed in one square brackets\n",
    "\n",
    "print(array_1[:2])\n",
    "\n",
    "print(array_1[:2,0]) #unlike list, this gives the first element of every sublist\n",
    "\n",
    "print(array_1[::-1,-1])\n"
   ]
  },
  {
   "cell_type": "markdown",
   "id": "f0e38abd",
   "metadata": {},
   "source": [
    "### 1.5 Growing lists"
   ]
  },
  {
   "cell_type": "code",
   "execution_count": 81,
   "id": "6be4e96d",
   "metadata": {},
   "outputs": [
    {
     "name": "stdout",
     "output_type": "stream",
     "text": [
      "[1, 2, 3, 1, 2, 3]\n",
      "[1, 2, 3, 2]\n",
      "[1, 2, 3, 2, 2, 2, 2]\n",
      "[2, 2, 2, 1, 2, 3]\n",
      "[1, 2, 3, 4]\n",
      "[3, 2, 3, 4]\n"
     ]
    }
   ],
   "source": [
    "#Lists are useful because we can easily grow their size. Numpy arrays are useful for maths, especially when size is constant\n",
    "\n",
    "#Ways to grow a list\n",
    "\n",
    "list_1 = [1,2,3]\n",
    "\n",
    "#Multiplication\n",
    "\n",
    "list_2 = list_1 * 2\n",
    "print(list_2)\n",
    "\n",
    "#Concatenation\n",
    "\n",
    "list_2 = list_1 + [2]\n",
    "print(list_2)\n",
    "\n",
    "list_2 += [2,2,2]\n",
    "print(list_2)\n",
    "\n",
    "#Note: For prepending, add the intended list you want to add in the front\n",
    "\n",
    "list_2 = [2,2,2] + list_1\n",
    "print(list_2)\n",
    "\n",
    "#Append\n",
    "\n",
    "list_1.append(4)\n",
    "print(list_1)\n",
    "\n",
    "\n",
    "\n",
    "\n"
   ]
  },
  {
   "cell_type": "markdown",
   "id": "c6aaf3e6",
   "metadata": {},
   "source": [
    "## 2 Some loose ends"
   ]
  },
  {
   "cell_type": "markdown",
   "id": "a1ab3277",
   "metadata": {},
   "source": [
    "### 2.1 Tuples"
   ]
  },
  {
   "cell_type": "code",
   "execution_count": 77,
   "id": "0344c175",
   "metadata": {},
   "outputs": [
    {
     "name": "stdout",
     "output_type": "stream",
     "text": [
      "(1, 2, 3)\n",
      "1\n"
     ]
    }
   ],
   "source": [
    "#Tuples are like lists, except they use paranthesis and they cannot be modified\n",
    "\n",
    "tuple_1 = (1,2,3)\n",
    "\n",
    "print(tuple_1)\n",
    "\n",
    "print(tuple_1[0])\n",
    "\n",
    "#You cannot change the data of the list using indexing\n",
    "\n",
    "#tuple_1[0] = 7 ---> 'tuple' object does not support item assignment\n",
    "\n",
    "\n"
   ]
  },
  {
   "cell_type": "markdown",
   "id": "657135ae",
   "metadata": {},
   "source": [
    "### 2.2 Be VERY careful when copying"
   ]
  },
  {
   "cell_type": "code",
   "execution_count": 88,
   "id": "1b20ebb0",
   "metadata": {},
   "outputs": [
    {
     "name": "stdout",
     "output_type": "stream",
     "text": [
      "[1, 2, 3]\n"
     ]
    }
   ],
   "source": [
    "#Variables in Python have subtle features that require you to be mindful when making copies of lists and arrays.\n",
    "\n",
    "#When you want to copy a list or a tuple, do the following\n",
    "\n",
    "x = [1,2,3]\n",
    "\n",
    "y = x.copy()\n",
    "\n",
    "print(y)"
   ]
  },
  {
   "cell_type": "markdown",
   "id": "cc965574",
   "metadata": {},
   "source": [
    "## Exercise 1 :  Total recall?"
   ]
  },
  {
   "cell_type": "markdown",
   "id": "2fa33cec",
   "metadata": {},
   "source": [
    "| **Term**    | **Description**                                                                |\n",
    "| :---------- |                                                                                |\n",
    "| Subsetting  | Process of selecting a suitable subset of a list-like object                   |\n",
    "| Indexing    | Selecting an individual element                                                |\n",
    "| Slicing     | Selecting a range of elements                                                  |\n",
    "| Masking     | *A method of subsetting that works only for arrays* *Reveals all True subsets* |"
   ]
  },
  {
   "cell_type": "markdown",
   "id": "6f66ec89",
   "metadata": {},
   "source": [
    "## Exercise 2 :  Show me the ‘odd’ letters"
   ]
  },
  {
   "cell_type": "code",
   "execution_count": 98,
   "id": "6e9c3a58",
   "metadata": {},
   "outputs": [
    {
     "name": "stdout",
     "output_type": "stream",
     "text": [
      "['1' '3' '2' '4' '5' '7' '6' '8' '10' '9']\n",
      "['A' 'C' 'E' 'G' 'I']\n"
     ]
    }
   ],
   "source": [
    "np_array_2d = np.array([[1, \"A\"], [3, \"C\"], [2, \"B\"], [4, \"D\"],\n",
    "                        [5, \"E\"], [7, \"G\"], [6, \"F\"], [8, \"H\"],\n",
    "                        [10, \"J\"], [9, \"I\"]])\n",
    "\n",
    "np_array_1 = np_array_2d[::,0]\n",
    "\n",
    "print(np_array_1)\n",
    "\n",
    "list_1 = []\n",
    "\n",
    "for i in np_array_1:\n",
    "    i = int(i)\n",
    "    list_1 += [i]\n",
    "    \n",
    "np_array_1 = np.array(list_1)\n",
    "\n",
    "np_array_mask = (np_array_1 % 2 != 0)\n",
    "\n",
    "np_arrayz = np_array_2d[np_array_mask]\n",
    "\n",
    "print(np_arrayz[::,1])\n",
    "\n",
    "\n",
    "\n"
   ]
  },
  {
   "cell_type": "code",
   "execution_count": null,
   "id": "2671e46a",
   "metadata": {},
   "outputs": [],
   "source": []
  }
 ],
 "metadata": {
  "kernelspec": {
   "display_name": "Python 3 (ipykernel)",
   "language": "python",
   "name": "python3"
  },
  "language_info": {
   "codemirror_mode": {
    "name": "ipython",
    "version": 3
   },
   "file_extension": ".py",
   "mimetype": "text/x-python",
   "name": "python",
   "nbconvert_exporter": "python",
   "pygments_lexer": "ipython3",
   "version": "3.10.8"
  },
  "toc": {
   "base_numbering": 1,
   "nav_menu": {},
   "number_sections": true,
   "sideBar": true,
   "skip_h1_title": false,
   "title_cell": "Table of Contents",
   "title_sidebar": "Contents",
   "toc_cell": false,
   "toc_position": {},
   "toc_section_display": true,
   "toc_window_display": false
  },
  "vscode": {
   "interpreter": {
    "hash": "31f2aee4e71d21fbe5cf8b01ff0e069b9275f58929596ceb00d14d90e3e16cd6"
   }
  }
 },
 "nbformat": 4,
 "nbformat_minor": 5
}
