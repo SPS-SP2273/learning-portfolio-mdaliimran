{
 "cells": [
  {
   "cell_type": "markdown",
   "id": "123456",
   "metadata": {},
   "source": [
    "<div style=\"text-align:left;font-size:2em\"><span style=\"font-weight:bolder;font-size:1.25em\">SP2273 | Learning Portfolio</span><br><br><span style=\"font-weight:bold;color:darkred\">Storing Data (Need)</span></div>"
   ]
  },
  {
   "cell_type": "markdown",
   "id": "a0cb8851",
   "metadata": {},
   "source": [
    "## 1 Lists, Arrays & Dictionaries"
   ]
  },
  {
   "cell_type": "markdown",
   "id": "ffc506ca",
   "metadata": {},
   "source": [
    "### 1.1 Let’s compare"
   ]
  },
  {
   "cell_type": "code",
   "execution_count": 16,
   "id": "d9363bbf",
   "metadata": {},
   "outputs": [
    {
     "name": "stdout",
     "output_type": "stream",
     "text": [
      "{'spiderman': 'peter', 'thor': 'thor', 'captain america': 'steve'}\n"
     ]
    }
   ],
   "source": [
    "#The 3 basic ways of storing data are using lists, numpy arrays and dictionaries\n",
    "\n",
    "#Dictionaries uses a kay and an associated value separated by :\n",
    "\n",
    "#Order matters for list and arrays\n",
    "\n",
    "#Which data storage stratey you choose will depend on the problem you are trying to solve\n",
    "\n",
    "import numpy as np\n",
    "\n",
    "list_superhero_names = ['spiderman','thor','captain america']\n",
    "list_superhero_real_names = ['peter','thor','steve']\n",
    "\n",
    "array_superheronames = np.array(['spiderman','thor','captain america'])\n",
    "array_superhero_real_names = np.array(['peter','thor','steve'])\n",
    "\n",
    "dict_superheroinfo = {\n",
    "    \n",
    "        'spiderman':'peter',\n",
    "        'thor':'thor',\n",
    "        'captain america':'steve'\n",
    "}\n",
    "\n",
    "print(dict_superheroinfo)\n",
    "\n"
   ]
  },
  {
   "cell_type": "markdown",
   "id": "a8b310ef",
   "metadata": {},
   "source": [
    "### 1.2 Accessing data from a list (or array)"
   ]
  },
  {
   "cell_type": "code",
   "execution_count": 49,
   "id": "23e44d8d",
   "metadata": {},
   "outputs": [
    {
     "name": "stdout",
     "output_type": "stream",
     "text": [
      "c\n",
      "e\n",
      "z\n"
     ]
    }
   ],
   "source": [
    "#We can access data from a list or an array using indexing\n",
    "\n",
    "#In python, indexing start from 0\n",
    "\n",
    "#Negative indexing starts from the back, useful when you want to retrieve data at the end but you don't know the length of the list/array\n",
    "    \n",
    "\n",
    "listz = ['a','b','c','d','e']\n",
    "array = np.array(['w','x','y','z'])\n",
    "\n",
    "print(listz[2])\n",
    "\n",
    "print(listz[-1])\n",
    "\n",
    "print(array[3])"
   ]
  },
  {
   "cell_type": "markdown",
   "id": "44bad47b",
   "metadata": {},
   "source": [
    "### 1.3 Accessing data from a dictionary"
   ]
  },
  {
   "cell_type": "code",
   "execution_count": 30,
   "id": "12c4c547",
   "metadata": {},
   "outputs": [
    {
     "name": "stdout",
     "output_type": "stream",
     "text": [
      "black\n",
      "red\n",
      "dict_keys([1, 2, 3, 4])\n",
      "dict_values(['black', 'white', 'green', 'red'])\n"
     ]
    }
   ],
   "source": [
    "#To access value from a dictionary, you need to 'index' it's key\n",
    "\n",
    "#dictionary_name[key]---> value\n",
    "\n",
    "dictionary = {1:'black',\n",
    "              2:'white',\n",
    "              3:'green',\n",
    "              4:'red'\n",
    "             }\n",
    "\n",
    "print(dictionary[1])\n",
    "\n",
    "print(dictionary[4])\n",
    "              \n",
    "\n",
    "#To access all the keys, use dictionary_name.keys() function\n",
    "\n",
    "#To access all the values, use dictionary_name.values() function\n",
    "\n",
    "print(dictionary.keys())\n",
    "\n",
    "print(dictionary.values())\n",
    "\n"
   ]
  },
  {
   "cell_type": "markdown",
   "id": "7776d786",
   "metadata": {},
   "source": [
    "### 1.4 Higher dimensional lists"
   ]
  },
  {
   "cell_type": "code",
   "execution_count": 32,
   "id": "8f351a10",
   "metadata": {},
   "outputs": [
    {
     "name": "stdout",
     "output_type": "stream",
     "text": [
      "[['spiderman', 'peter'], ['thor', 'thor'], ['captain america', 'steve']]\n"
     ]
    }
   ],
   "source": [
    "TwoD_List = [['spiderman','peter'],['thor','thor'],['captain america','steve']]\n",
    "\n",
    "print(TwoD_List)\n",
    "\n",
    "#A 2d list is basically a list whose elements are lists\n",
    "\n",
    "#A 3d list is a list whose elements are 2d lists\n"
   ]
  },
  {
   "cell_type": "markdown",
   "id": "92b3213e",
   "metadata": {},
   "source": [
    "## 2 Lists vs. Arrays"
   ]
  },
  {
   "cell_type": "markdown",
   "id": "d586d251",
   "metadata": {},
   "source": [
    "### 2.1 Size"
   ]
  },
  {
   "cell_type": "code",
   "execution_count": 38,
   "id": "70b8965d",
   "metadata": {},
   "outputs": [
    {
     "name": "stdout",
     "output_type": "stream",
     "text": [
      "3\n",
      "3\n",
      "(3, 2)\n"
     ]
    }
   ],
   "source": [
    "#len function returns the length of list and arrays respectively\n",
    "\n",
    "TwoD_Array = np.array(TwoD_List)\n",
    "\n",
    "print(len(TwoD_List))\n",
    "\n",
    "print(len(TwoD_Array))\n",
    "\n",
    "#For arrays, there is an attribute called shape\n",
    "\n",
    "#For 2D arrays, the shape attribute returns a tuple\n",
    "\n",
    "#The tuple is of the form (x, y), where x = no. of rows and y = no. of columns\n",
    "\n",
    "print(TwoD_Array.shape)\n",
    "\n",
    "#Helpful to think of 2D arrays as matrices\n",
    "\n",
    "#Note that shape is not a function, it is an attribute, hence the absence of paranthesis\n",
    "\n",
    "\n"
   ]
  },
  {
   "cell_type": "markdown",
   "id": "15cb4dbe",
   "metadata": {},
   "source": [
    "### 2.2 Arrays are fussy about type"
   ]
  },
  {
   "cell_type": "code",
   "execution_count": 40,
   "id": "c3102d7c",
   "metadata": {},
   "outputs": [
    {
     "name": "stdout",
     "output_type": "stream",
     "text": [
      "['1' '2' 'a']\n"
     ]
    }
   ],
   "source": [
    "#Numpy arrays only hold data of the same type\n",
    "\n",
    "array_1 = np.array([1,2,'a'])\n",
    "\n",
    "print(array_1) #Notice how the output shows 1 and 2 as strings and not integers\n",
    "\n",
    "#Later on, you will learn how to change types using a 'hidden' function --> astypes()\n",
    "\n"
   ]
  },
  {
   "cell_type": "markdown",
   "id": "79c59f29",
   "metadata": {},
   "source": [
    "### 2.3 Adding a number"
   ]
  },
  {
   "cell_type": "code",
   "execution_count": 45,
   "id": "c42d0d67",
   "metadata": {
    "scrolled": true
   },
   "outputs": [
    {
     "name": "stdout",
     "output_type": "stream",
     "text": [
      "[5 6 7]\n"
     ]
    }
   ],
   "source": [
    "#You cannot perform mathematical addition ('entry addition') for your list\n",
    "\n",
    "list_1 = [1,2,3]\n",
    "\n",
    "#list = list + 4\n",
    "\n",
    "#print(list) ---> TypeError: can only concatenate list (not \"int\") to list\n",
    "\n",
    "#However for arrays, you can add numbers\n",
    "\n",
    "array_2 = np.array(list)\n",
    "\n",
    "array_2 = array_2 + 4\n",
    "\n",
    "print(array_2)"
   ]
  },
  {
   "cell_type": "markdown",
   "id": "82389c86",
   "metadata": {},
   "source": [
    "### 2.4 Adding another list"
   ]
  },
  {
   "cell_type": "code",
   "execution_count": 55,
   "id": "fc64a6e4",
   "metadata": {},
   "outputs": [
    {
     "name": "stdout",
     "output_type": "stream",
     "text": [
      "[1, 2, 3, 1, 2, 3]\n",
      "[2 4 6]\n"
     ]
    }
   ],
   "source": [
    "#Adding one list to another is basically concatenation\n",
    "\n",
    "list_1 = [1,2,3]\n",
    "\n",
    "list_1 += list_1\n",
    "\n",
    "print(list_1)\n",
    "\n",
    "#Adding an array to another is basically 'entry addition'\n",
    "\n",
    "list_1 = [1,2,3]\n",
    "\n",
    "array_1 = np.array(list_1)\n",
    "array_2 = array_1 + array_1\n",
    "\n",
    "\n",
    "\n",
    "print(array_2)"
   ]
  },
  {
   "cell_type": "markdown",
   "id": "c73c00ce",
   "metadata": {},
   "source": [
    "### 2.5 Multiplying by a Number"
   ]
  },
  {
   "cell_type": "code",
   "execution_count": 68,
   "id": "38b572a6",
   "metadata": {},
   "outputs": [
    {
     "name": "stdout",
     "output_type": "stream",
     "text": [
      "[1, 2, 3, 4, 1, 2, 3, 4]\n",
      "[]\n",
      "['a', 'b', 'a', 'b']\n",
      "[1 2 3 4]\n",
      "[2 4 6 8]\n",
      "[0.5 1.  1.5 2. ]\n",
      "[0 0 0 0]\n",
      "[-2 -4 -6 -8]\n",
      "[[1 2]\n",
      " [3 4]]\n",
      "[[2 4]\n",
      " [6 8]]\n"
     ]
    }
   ],
   "source": [
    "#Multiplying a list by an integer basically scales the no. of elements of the list by a factor of the integer\n",
    "\n",
    "list_1 = [1,2,3,4]\n",
    "\n",
    "list_2 = ['a','b']\n",
    "\n",
    "print(list_1*2)\n",
    "\n",
    "print(list_1*0) #returns an empty list\n",
    "\n",
    "print(list_2*2)\n",
    "\n",
    "#print(list_1*0.5) ---> TypeError: can't multiply sequence by non-int of type 'float'\n",
    "\n",
    "#Multiplying an array by a real number basically scales the individual entry by that number\n",
    "\n",
    "array_1 = np.array(list_1)\n",
    "\n",
    "print(array_1)\n",
    "\n",
    "print(array_1*2)\n",
    "\n",
    "print(array_1*0.5)\n",
    "\n",
    "print(array_1*0)\n",
    "\n",
    "print(array_1*-2)\n",
    "\n",
    "array_2d = np.array([[1,2],[3,4]])\n",
    "\n",
    "print(array_2d)\n",
    "\n",
    "print(array_2d*2)\n",
    "\n",
    "array_2 = np.array(['a','b'])\n",
    "\n",
    "#print(array_2*2) ---> UFuncTypeError: ufunc 'multiply' did not contain a loop with signature matching types (dtype('<U1'), dtype('int64')) -> None\n",
    "\n",
    "#If i am not wrong, multiplying by a number for arrays only work if the entries are also numbers"
   ]
  },
  {
   "cell_type": "markdown",
   "id": "b82abc41",
   "metadata": {},
   "source": [
    "### 2.6 Squaring"
   ]
  },
  {
   "cell_type": "code",
   "execution_count": 72,
   "id": "30b12179",
   "metadata": {},
   "outputs": [
    {
     "name": "stdout",
     "output_type": "stream",
     "text": [
      "[1 4 9]\n"
     ]
    }
   ],
   "source": [
    "#You cannot raise a list to an exponent\n",
    "\n",
    "list_1 = [1,2,3]\n",
    "\n",
    "#print(list_1**2) ---> TypeError: unsupported operand type(s) for ** or pow(): 'list' and 'int'\n",
    "\n",
    "#For arrays though, you can. Raising an array to an exponents basically raises every entry of the array to that exp\n",
    "\n",
    "array_1 = np.array(list_1)\n",
    "\n",
    "print(array_1**2)\n",
    "\n",
    "#Again, i think it only works if all the entries in the array are numbers\n",
    "\n"
   ]
  },
  {
   "cell_type": "markdown",
   "id": "d4698a30",
   "metadata": {},
   "source": [
    "### 2.7 Asking questions"
   ]
  },
  {
   "cell_type": "code",
   "execution_count": 80,
   "id": "faa35057",
   "metadata": {},
   "outputs": [
    {
     "name": "stdout",
     "output_type": "stream",
     "text": [
      "False\n",
      "False\n",
      "[ True False False]\n",
      "[ True  True False]\n"
     ]
    }
   ],
   "source": [
    "#You can use boolean operators on lists and arrays \n",
    "\n",
    "list_1 = [1,2,3]\n",
    "\n",
    "print(list_1 == 9) #Asking whether list_1 holds the value 9, which is false\n",
    "\n",
    "list_1 = [1]\n",
    "\n",
    "print(list_1 == 1) \n",
    "\n",
    "list_1 = [1,2,3]\n",
    "\n",
    "#print(list_1 > 3) ---> TypeError: '>' not supported between instances of 'list' and 'int'\n",
    "\n",
    "array_1 = np.array(list_1)\n",
    "\n",
    "print(array_1 == 1) #Asking whether each entry of the array is equals to 1\n",
    "\n",
    "print(array_1 < 3) #Asking whether each entry of the array is strictly smaller than 3"
   ]
  },
  {
   "cell_type": "markdown",
   "id": "c9dc8289",
   "metadata": {},
   "source": [
    "### 2.8 Mathematics"
   ]
  },
  {
   "cell_type": "code",
   "execution_count": 85,
   "id": "cc72575d",
   "metadata": {},
   "outputs": [
    {
     "name": "stdout",
     "output_type": "stream",
     "text": [
      "6\n",
      "3\n",
      "1\n",
      "2.0\n",
      "6\n",
      "3\n",
      "1\n",
      "2.0\n"
     ]
    }
   ],
   "source": [
    "#Given a list, you can find it's Sum, Max, Min and Mean using python base functions\n",
    "\n",
    "list_1 = [1,2,3]\n",
    "\n",
    "print(sum(list_1))\n",
    "\n",
    "print(max(list_1))\n",
    "\n",
    "print(min(list_1))\n",
    "\n",
    "print(mean(list_1))\n",
    "\n",
    "array_1 = np.array(list_1)\n",
    "\n",
    "print(sum(array_1))\n",
    "\n",
    "print(max(array_1))\n",
    "\n",
    "print(min(array_1))\n",
    "\n",
    "print(mean(array_1))\n"
   ]
  },
  {
   "cell_type": "markdown",
   "id": "044ab02e",
   "metadata": {},
   "source": [
    "## Exercise 1 :  Total recall?"
   ]
  },
  {
   "cell_type": "markdown",
   "id": "4ea04f77",
   "metadata": {},
   "source": [
    "1. We can access the data of both lists and arrays by indexing and list and arrays both have dimensions\n",
    "2. You cannot raise a list to an exponent but you can do so for arrays(if the arrays entry are numbers) and you cannot add a number to your list but you can do so for arrays(if the arrays entry are numbers). Also, adding a number to an array will result in adding the number to every entry in the array.\n",
    "3. A dictionary is a data type that stores information as a key to value pair. The key and value are separated by ':'\n",
    "\n",
    "\n"
   ]
  },
  {
   "cell_type": "markdown",
   "id": "775a496e",
   "metadata": {},
   "source": [
    "## Exercise 2 :  Index me"
   ]
  },
  {
   "cell_type": "code",
   "execution_count": 96,
   "id": "673ab514",
   "metadata": {},
   "outputs": [
    {
     "name": "stdout",
     "output_type": "stream",
     "text": [
      "a1\n",
      "c3\n",
      "e5\n",
      "g7\n",
      "i9\n",
      "j10\n"
     ]
    }
   ],
   "source": [
    "py_list = [\"a1\", \"b2\", \"c3\", \"d4\", \"e5\", \"f6\", \"g7\", \"h8\", \"i9\", \"j10\"]\n",
    "\n",
    "for i in py_list:\n",
    "    if int(i[1])%2 != 0:\n",
    "        print(i)"
   ]
  },
  {
   "cell_type": "markdown",
   "id": "0b5b5446",
   "metadata": {},
   "source": [
    "## Exercise 3 :  Capitalise Heros"
   ]
  },
  {
   "cell_type": "code",
   "execution_count": 99,
   "id": "00fea6a8",
   "metadata": {},
   "outputs": [
    {
     "name": "stdout",
     "output_type": "stream",
     "text": [
      "{'Natasha Romanoff': 'BLACK WIDOW', 'Tony Stark': 'IRON MAN', 'Stephen Strange': 'DOCTOR STRANGE'}\n"
     ]
    }
   ],
   "source": [
    "superhero_info = {\"Natasha Romanoff\": \"Black Widow\",\n",
    "                  \"Tony Stark\": \"Iron Man\",\n",
    "                  \"Stephen Strange\": \"Doctor Strange\"\n",
    "                  }\n",
    "\n",
    "superhero_info['Tony Stark'] = superhero_info['Tony Stark'].upper()                  \n",
    "\n",
    "\n",
    "for i in superhero_info.keys():\n",
    "    superhero_info[i] = superhero_info[i].upper()\n",
    "\n",
    "print(superhero_info)\n",
    "\n",
    "    "
   ]
  },
  {
   "cell_type": "markdown",
   "id": "006ab8fe",
   "metadata": {},
   "source": [
    "## Exercise 4 :  How many ones"
   ]
  },
  {
   "cell_type": "code",
   "execution_count": 98,
   "id": "138b79c1",
   "metadata": {},
   "outputs": [
    {
     "name": "stdout",
     "output_type": "stream",
     "text": [
      "9\n"
     ]
    }
   ],
   "source": [
    "numbers=[45, 60, 1, 30, 96, 1, 96, 57, 16, 1,\n",
    "        99, 62, 86, 43, 42, 60, 59, 1, 1, 35,\n",
    "        83, 47, 34, 28, 68, 23, 22, 92, 1, 79,\n",
    "        1, 29, 94, 72, 46, 47, 1, 74, 32, 20,\n",
    "        8, 37, 35, 1, 89, 29, 86, 19, 43, 61]                  \n",
    "\n",
    "numbers = np.array(numbers)\n",
    "\n",
    "numbers = (numbers==1)\n",
    "\n",
    "counter = 0\n",
    "for i in numbers:\n",
    "    if i == True:\n",
    "        counter+= 1\n",
    "    else:\n",
    "        continue\n",
    "        \n",
    "print(counter)\n",
    "\n"
   ]
  }
 ],
 "metadata": {
  "kernelspec": {
   "display_name": "Python 3 (ipykernel)",
   "language": "python",
   "name": "python3"
  },
  "language_info": {
   "codemirror_mode": {
    "name": "ipython",
    "version": 3
   },
   "file_extension": ".py",
   "mimetype": "text/x-python",
   "name": "python",
   "nbconvert_exporter": "python",
   "pygments_lexer": "ipython3",
   "version": "3.10.8"
  },
  "toc": {
   "base_numbering": 1,
   "nav_menu": {},
   "number_sections": true,
   "sideBar": true,
   "skip_h1_title": false,
   "title_cell": "Table of Contents",
   "title_sidebar": "Contents",
   "toc_cell": false,
   "toc_position": {},
   "toc_section_display": true,
   "toc_window_display": false
  },
  "vscode": {
   "interpreter": {
    "hash": "31f2aee4e71d21fbe5cf8b01ff0e069b9275f58929596ceb00d14d90e3e16cd6"
   }
  }
 },
 "nbformat": 4,
 "nbformat_minor": 5
}
