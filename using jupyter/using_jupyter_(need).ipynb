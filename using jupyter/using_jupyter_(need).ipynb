{
 "cells": [
  {
   "cell_type": "markdown",
   "id": "123456",
   "metadata": {},
   "source": [
    "<div style=\"text-align:left;font-size:2em\"><span style=\"font-weight:bolder;font-size:1.25em\">SP2273 | Learning Portfolio</span><br><br><span style=\"font-weight:bold;color:darkred\">Using Jupyter (Need)</span></div>"
   ]
  },
  {
   "cell_type": "markdown",
   "id": "c3923f62",
   "metadata": {},
   "source": [
    "## 1 Getting started with Jupyter"
   ]
  },
  {
   "cell_type": "markdown",
   "id": "699a7578",
   "metadata": {},
   "source": [
    "### 1.1 Its all about running cells"
   ]
  },
  {
   "cell_type": "code",
   "execution_count": 2,
   "id": "4dc18937",
   "metadata": {},
   "outputs": [
    {
     "name": "stdout",
     "output_type": "stream",
     "text": [
      "119\n"
     ]
    }
   ],
   "source": [
    "a = 99\n",
    "b = 20\n",
    "print( a + b)"
   ]
  },
  {
   "cell_type": "markdown",
   "id": "02d7eb1f",
   "metadata": {},
   "source": [
    "### 1.2 A traditional start"
   ]
  },
  {
   "cell_type": "code",
   "execution_count": 3,
   "id": "25a0e9ea",
   "metadata": {},
   "outputs": [
    {
     "name": "stdout",
     "output_type": "stream",
     "text": [
      "Hello World!\n"
     ]
    }
   ],
   "source": [
    "print(\"Hello World!\")"
   ]
  },
  {
   "cell_type": "markdown",
   "id": "b2a22b9e",
   "metadata": {},
   "source": [
    "## 2 All about Markdown"
   ]
  },
  {
   "cell_type": "markdown",
   "id": "13a4cc66",
   "metadata": {},
   "source": [
    "### 2.1 Rendering Markdown cells"
   ]
  },
  {
   "cell_type": "markdown",
   "id": "3b04df68",
   "metadata": {},
   "source": [
    "The ships hung in the sky in much the same way that bricks don’t."
   ]
  },
  {
   "cell_type": "markdown",
   "id": "6fe21a14",
   "metadata": {},
   "source": [
    "### 2.2 Some basic syntax"
   ]
  },
  {
   "cell_type": "markdown",
   "id": "31fed1a0",
   "metadata": {},
   "source": [
    "The ships *hung in the sky* in much the same way that **bricks don't.**<sup>1</sup><sub>QUOTE</sub>"
   ]
  },
  {
   "cell_type": "markdown",
   "id": "2611893f",
   "metadata": {},
   "source": [
    "### 2.3 Headings"
   ]
  },
  {
   "cell_type": "markdown",
   "id": "93d1c76e",
   "metadata": {},
   "source": [
    "# The largest heading\n",
    "\n",
    "## The second largest heading\n",
    "\n",
    "### The third largest heading\n",
    "\n",
    "##### The smallest heading\n",
    "\n",
    "# Back to largest"
   ]
  },
  {
   "cell_type": "markdown",
   "id": "70676080",
   "metadata": {},
   "source": [
    "### 2.4 Displaying Code"
   ]
  },
  {
   "cell_type": "markdown",
   "id": "1ae45a14",
   "metadata": {},
   "source": [
    "`print(\"Hello World!\")`\n",
    "\n",
    "```python\n",
    "print(\"Hello World!\")\n",
    "```\n"
   ]
  },
  {
   "cell_type": "markdown",
   "id": "7b806ac8",
   "metadata": {},
   "source": [
    "### 2.5 Links"
   ]
  },
  {
   "cell_type": "markdown",
   "id": "ec80ea48",
   "metadata": {},
   "source": [
    "[Apple store](https://www.apple.com/sg/store?afid=p238%7CsBg4FKFyg-dc_mtid_18707vxu38484_pcrid_642889068702_pgrid_15033774743_pntwk_g_pchan__pexid__&cid=aos-sg-kwgo-Brand--slid---product-)\n"
   ]
  },
  {
   "cell_type": "markdown",
   "id": "3ce35b1a",
   "metadata": {},
   "source": [
    "### 2.6 Images"
   ]
  },
  {
   "cell_type": "markdown",
   "id": "5ddd42cb",
   "metadata": {},
   "source": [
    "![](data:image/jpeg;base64,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)"
   ]
  },
  {
   "cell_type": "markdown",
   "id": "a07c35fb",
   "metadata": {},
   "source": [
    "### 2.7 Tables"
   ]
  },
  {
   "cell_type": "markdown",
   "id": "86f91c49",
   "metadata": {},
   "source": [
    "\n",
    "|A |B  |C  |\n",
    "|:---|:---:|---:|\n",
    "| Parrot | Peacock | Panda |                \n"
   ]
  },
  {
   "cell_type": "markdown",
   "id": "fdcd0987",
   "metadata": {},
   "source": [
    "### 2.8 Lists"
   ]
  },
  {
   "cell_type": "markdown",
   "id": "f7cabf78",
   "metadata": {},
   "source": [
    "1. Apple\n",
    "2. Banana\n",
    "3. Carrot\n",
    "\n",
    "---\n",
    "\n",
    "1. Singapore\n",
    "    1. Singapore\n",
    "2. Malaysia\n",
    "    1. KL\n",
    "3. Indonesia\n",
    "    1. Jakarta\n",
    "4. Thailand\n",
    "    1. Bangkok\n",
    "    \n",
    "    ---\n",
    "\n",
    "- One walnut\n",
    "- Two almonds\n",
    "- Three hazelnuts\n",
    "- Four peanuts\n"
   ]
  },
  {
   "cell_type": "markdown",
   "id": "39a74503",
   "metadata": {},
   "source": [
    "### 2.9 Equations"
   ]
  },
  {
   "cell_type": "markdown",
   "id": "864dfde4",
   "metadata": {},
   "source": [
    "$\\sqrt{b^{2}-4ac}$\n",
    "\n",
    "$$\n",
    "\\dfrac{-b \\pm \\sqrt{b^{2}-4ac}}{2a}\n",
    "$$\n",
    "\n",
    "$\\delta, \\theta, \\sigma, \\phi$\n",
    "\n",
    "$$\n",
    "e^{\\pi i}=-1\n",
    "$$\n"
   ]
  },
  {
   "cell_type": "markdown",
   "id": "b346c776",
   "metadata": {},
   "source": [
    "## Exercise 1 :  Put it in Markdown"
   ]
  },
  {
   "cell_type": "markdown",
   "id": "428d6b8e",
   "metadata": {},
   "source": [
    "# Exercise 1 : Put it in Markdown\n",
    "\n",
    "## **Quadratic Equations**\n",
    "\n",
    "![](https://upload.wikimedia.org/wikipedia/commons/thumb/f/f8/Polynomialdeg2.svg/300px-Polynomialdeg2.svg.png)\n",
    "\n",
    "(Image from the [Wikipedia page on quadratic equations](https://en.wikipedia.org/wiki/Quadratic_equation))\n",
    "\n",
    "## **Introduction**\n",
    "\n",
    "The general form of a quadratic equation is:\n",
    "$$\n",
    "ax^{2}+bx+c\n",
    "$$\n",
    "\n",
    "**Solutions** Provided $a\\ne b$, we can use elementary algebraic method called [completing the square](https://en.wikipedia.org/wiki/Completing_the_square) to show that a quadratic equation has the following solution:\n",
    "$$\n",
    "x = \\dfrac{-b \\pm \\sqrt{b^{2}-4ac}}{2a}\n",
    "$$\n",
    "\n",
    "## **Discriminant**\n",
    "\n",
    "The quantity $\\Delta = b^{2} -4ac$ is called the **discriminant** of the equation and decided the nature of its solutions. The table below shows the various possibilities.\n",
    "\n",
    "\n",
    "|Discriminant | Roots |\n",
    "|:---|:---:|\n",
    "|$$\\Delta = b^{2} -4ac = 0$$ | A single solution of $-b/(2a)$ |\n",
    "|$\\Delta = b^{2}-4ac \\gt 0$ | Two distinct solutions |\n",
    "|$\\Delta = b^{2}-4ac \\lt 0$ | No real solutions; both are complex |"
   ]
  },
  {
   "cell_type": "markdown",
   "id": "15cd48bb",
   "metadata": {},
   "source": [
    "## Exercise 2 :  In your own words"
   ]
  },
  {
   "cell_type": "markdown",
   "id": "4bc2e46b",
   "metadata": {},
   "source": [
    "1. A repository is a folder on GitHub that stores one's learning portfolio/folders\n",
    "2. Git keeps track of changes in the files in our repository\n",
    "3. A commit is an act where a user specifies what changes to the repository does he/she wants to be recorded/tracked\n",
    "4. A push is an act where a user shares the recorded/tracked changes in the GitHub Desktop to the Cloud\n",
    "5. Githhub is an online service which helps to maintain and develop code while Github Desktop is an application that is directly connected to our device and provides a friendly graphical user interface (GUI) for ease of use.\n",
    "6. Git pull is used to 'push' changes made in the cloud to the local machine\n",
    "\n"
   ]
  }
 ],
 "metadata": {
  "kernelspec": {
   "display_name": "Python 3 (ipykernel)",
   "language": "python",
   "name": "python3"
  },
  "language_info": {
   "codemirror_mode": {
    "name": "ipython",
    "version": 3
   },
   "file_extension": ".py",
   "mimetype": "text/x-python",
   "name": "python",
   "nbconvert_exporter": "python",
   "pygments_lexer": "ipython3",
   "version": "3.10.8"
  },
  "toc": {
   "base_numbering": 1,
   "nav_menu": {},
   "number_sections": true,
   "sideBar": true,
   "skip_h1_title": false,
   "title_cell": "Table of Contents",
   "title_sidebar": "Contents",
   "toc_cell": false,
   "toc_position": {},
   "toc_section_display": true,
   "toc_window_display": false
  },
  "vscode": {
   "interpreter": {
    "hash": "31f2aee4e71d21fbe5cf8b01ff0e069b9275f58929596ceb00d14d90e3e16cd6"
   }
  }
 },
 "nbformat": 4,
 "nbformat_minor": 5
}
