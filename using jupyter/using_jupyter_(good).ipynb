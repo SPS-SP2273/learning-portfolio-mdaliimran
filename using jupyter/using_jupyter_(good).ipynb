{
 "cells": [
  {
   "cell_type": "markdown",
   "id": "123456",
   "metadata": {},
   "source": [
    "<div style=\"text-align:left;font-size:2em\"><span style=\"font-weight:bolder;font-size:1.25em\">SP2273 | Learning Portfolio</span><br><br><span style=\"font-weight:bold;color:darkred\">Using Jupyter (Good)</span></div>"
   ]
  },
  {
   "cell_type": "markdown",
   "id": "932505c4",
   "metadata": {},
   "source": [
    "## 1 Some tips and tricks"
   ]
  },
  {
   "cell_type": "markdown",
   "id": "abbf0d62",
   "metadata": {},
   "source": [
    "### 1.1 Keyboard Shortcuts"
   ]
  },
  {
   "cell_type": "markdown",
   "id": "904625d7",
   "metadata": {},
   "source": [
    "## Useful shortcuts :\n",
    "\n",
    "Run cell = `cmd + enter`\n",
    "\n",
    "Run cell and move to next = `shift + enter`\n",
    "\n",
    "Create new cell without running current = `esc + a` or `esc + b` respectively\n",
    "\n",
    "Copy cell = `esc + c`\n",
    "\n",
    "Paste cell = `esc + v`\n",
    "\n",
    "Merge cells = `esc + shift m`\n",
    "\n",
    "Select cells = `shift up/down `\n",
    "\n",
    "Show shortcuts = `esc + h`\n"
   ]
  },
  {
   "cell_type": "markdown",
   "id": "bb955eb8",
   "metadata": {},
   "source": [
    "### 1.2 Shell commands"
   ]
  },
  {
   "cell_type": "code",
   "execution_count": 1,
   "id": "622e168a",
   "metadata": {},
   "outputs": [
    {
     "name": "stdout",
     "output_type": "stream",
     "text": [
      "/Users/muhammadaliimranbjalaludin/Downloads/GitHub/learning-portfolio-mdaliimran/using jupyter\n",
      "using_jupyter_(good).ipynb using_jupyter_(need).ipynb\n"
     ]
    }
   ],
   "source": [
    "!pwd\n",
    "\n",
    "\n",
    "\n",
    "!ls\n",
    "\n"
   ]
  },
  {
   "cell_type": "markdown",
   "id": "54a4b49b",
   "metadata": {},
   "source": [
    "## 2 Jupyter Extensions"
   ]
  },
  {
   "cell_type": "markdown",
   "id": "91294d3d",
   "metadata": {},
   "source": [
    "### 2.1 Installing the extensions"
   ]
  },
  {
   "cell_type": "code",
   "execution_count": null,
   "id": "dbae1958",
   "metadata": {},
   "outputs": [],
   "source": [
    "#installed extensions using terminal\n"
   ]
  },
  {
   "cell_type": "markdown",
   "id": "3127a0af",
   "metadata": {},
   "source": [
    "### 2.2 Enabling the extensions"
   ]
  },
  {
   "cell_type": "code",
   "execution_count": 15,
   "id": "9bdcaacf",
   "metadata": {},
   "outputs": [
    {
     "name": "stdout",
     "output_type": "stream",
     "text": [
      "Collecting package metadata (current_repodata.json): done\n",
      "Solving environment: done\n",
      "\n",
      "## Package Plan ##\n",
      "\n",
      "  environment location: /Users/muhammadaliimranbjalaludin/miniconda3\n",
      "\n",
      "  added / updated specs:\n",
      "    - autopep8\n",
      "\n",
      "\n",
      "The following packages will be downloaded:\n",
      "\n",
      "    package                    |            build\n",
      "    ---------------------------|-----------------\n",
      "    autopep8-2.0.1             |     pyhd8ed1ab_0          44 KB  conda-forge\n",
      "    pycodestyle-2.10.0         |     pyhd8ed1ab_0          42 KB  conda-forge\n",
      "    tomli-2.0.1                |     pyhd8ed1ab_0          16 KB  conda-forge\n",
      "    ------------------------------------------------------------\n",
      "                                           Total:         101 KB\n",
      "\n",
      "The following NEW packages will be INSTALLED:\n",
      "\n",
      "  autopep8           conda-forge/noarch::autopep8-2.0.1-pyhd8ed1ab_0 \n",
      "  pycodestyle        conda-forge/noarch::pycodestyle-2.10.0-pyhd8ed1ab_0 \n",
      "  tomli              conda-forge/noarch::tomli-2.0.1-pyhd8ed1ab_0 \n",
      "\n",
      "\n",
      "\n",
      "Downloading and Extracting Packages\n",
      "autopep8-2.0.1       | 44 KB     |                                       |   0% \n",
      "pycodestyle-2.10.0   | 42 KB     |                                       |   0% \u001b[A\n",
      "\n",
      "tomli-2.0.1          | 16 KB     |                                       |   0% \u001b[A\u001b[A\n",
      "\n",
      "tomli-2.0.1          | 16 KB     | ##################################### | 100% \u001b[A\u001b[A\n",
      "pycodestyle-2.10.0   | 42 KB     | ##############2                       |  39% \u001b[A\n",
      "\n",
      "tomli-2.0.1          | 16 KB     | ##################################### | 100% \u001b[A\u001b[A\n",
      "                                                                                \u001b[A\n",
      "                                                                                \u001b[A\n",
      "\n",
      "                                                                                \u001b[A\u001b[A\n",
      "Preparing transaction: done\n",
      "Verifying transaction: done\n",
      "Executing transaction: done\n"
     ]
    }
   ],
   "source": [
    "!conda install autopep8 -c conda-forge -y"
   ]
  },
  {
   "cell_type": "markdown",
   "id": "d0442803",
   "metadata": {},
   "source": [
    "## 3 Shell Magic"
   ]
  },
  {
   "cell_type": "code",
   "execution_count": 11,
   "id": "debf5af5",
   "metadata": {},
   "outputs": [
    {
     "name": "stdout",
     "output_type": "stream",
     "text": [
      "5.06 ns ± 0.011 ns per loop (mean ± std. dev. of 7 runs, 100,000,000 loops each)\n",
      "3.88 ns ± 0.00877 ns per loop (mean ± std. dev. of 7 runs, 100,000,000 loops each)\n"
     ]
    }
   ],
   "source": [
    "#trying out the magic commands \n",
    "\n",
    "%timeit x = 10\n",
    "\n",
    "%timeit 3+2"
   ]
  },
  {
   "cell_type": "code",
   "execution_count": 12,
   "id": "9e4c6b79",
   "metadata": {},
   "outputs": [
    {
     "name": "stdout",
     "output_type": "stream",
     "text": [
      "16.7 ns ± 0.0479 ns per loop (mean ± std. dev. of 7 runs, 100,000,000 loops each)\n"
     ]
    }
   ],
   "source": [
    "%%timeit\n",
    "x = 7\n",
    "y = 8\n",
    "z = x + y"
   ]
  },
  {
   "cell_type": "code",
   "execution_count": 13,
   "id": "f0bdc454",
   "metadata": {},
   "outputs": [
    {
     "data": {
      "application/json": {
       "cell": {
        "!": "OSMagics",
        "HTML": "Other",
        "SVG": "Other",
        "bash": "Other",
        "capture": "ExecutionMagics",
        "debug": "ExecutionMagics",
        "file": "Other",
        "html": "DisplayMagics",
        "javascript": "DisplayMagics",
        "js": "DisplayMagics",
        "latex": "DisplayMagics",
        "markdown": "DisplayMagics",
        "perl": "Other",
        "prun": "ExecutionMagics",
        "pypy": "Other",
        "python": "Other",
        "python2": "Other",
        "python3": "Other",
        "ruby": "Other",
        "script": "ScriptMagics",
        "sh": "Other",
        "svg": "DisplayMagics",
        "sx": "OSMagics",
        "system": "OSMagics",
        "time": "ExecutionMagics",
        "timeit": "ExecutionMagics",
        "writefile": "OSMagics"
       },
       "line": {
        "alias": "OSMagics",
        "alias_magic": "BasicMagics",
        "autoawait": "AsyncMagics",
        "autocall": "AutoMagics",
        "automagic": "AutoMagics",
        "autosave": "KernelMagics",
        "bookmark": "OSMagics",
        "cat": "Other",
        "cd": "OSMagics",
        "clear": "KernelMagics",
        "colors": "BasicMagics",
        "conda": "PackagingMagics",
        "config": "ConfigMagics",
        "connect_info": "KernelMagics",
        "cp": "Other",
        "debug": "ExecutionMagics",
        "dhist": "OSMagics",
        "dirs": "OSMagics",
        "doctest_mode": "BasicMagics",
        "ed": "Other",
        "edit": "KernelMagics",
        "env": "OSMagics",
        "gui": "BasicMagics",
        "hist": "Other",
        "history": "HistoryMagics",
        "killbgscripts": "ScriptMagics",
        "ldir": "Other",
        "less": "KernelMagics",
        "lf": "Other",
        "lk": "Other",
        "ll": "Other",
        "load": "CodeMagics",
        "load_ext": "ExtensionMagics",
        "loadpy": "CodeMagics",
        "logoff": "LoggingMagics",
        "logon": "LoggingMagics",
        "logstart": "LoggingMagics",
        "logstate": "LoggingMagics",
        "logstop": "LoggingMagics",
        "ls": "Other",
        "lsmagic": "BasicMagics",
        "lx": "Other",
        "macro": "ExecutionMagics",
        "magic": "BasicMagics",
        "man": "KernelMagics",
        "matplotlib": "PylabMagics",
        "mkdir": "Other",
        "more": "KernelMagics",
        "mv": "Other",
        "notebook": "BasicMagics",
        "page": "BasicMagics",
        "pastebin": "CodeMagics",
        "pdb": "ExecutionMagics",
        "pdef": "NamespaceMagics",
        "pdoc": "NamespaceMagics",
        "pfile": "NamespaceMagics",
        "pinfo": "NamespaceMagics",
        "pinfo2": "NamespaceMagics",
        "pip": "PackagingMagics",
        "popd": "OSMagics",
        "pprint": "BasicMagics",
        "precision": "BasicMagics",
        "prun": "ExecutionMagics",
        "psearch": "NamespaceMagics",
        "psource": "NamespaceMagics",
        "pushd": "OSMagics",
        "pwd": "OSMagics",
        "pycat": "OSMagics",
        "pylab": "PylabMagics",
        "qtconsole": "KernelMagics",
        "quickref": "BasicMagics",
        "recall": "HistoryMagics",
        "rehashx": "OSMagics",
        "reload_ext": "ExtensionMagics",
        "rep": "Other",
        "rerun": "HistoryMagics",
        "reset": "NamespaceMagics",
        "reset_selective": "NamespaceMagics",
        "rm": "Other",
        "rmdir": "Other",
        "run": "ExecutionMagics",
        "save": "CodeMagics",
        "sc": "OSMagics",
        "set_env": "OSMagics",
        "store": "StoreMagics",
        "sx": "OSMagics",
        "system": "OSMagics",
        "tb": "ExecutionMagics",
        "time": "ExecutionMagics",
        "timeit": "ExecutionMagics",
        "unalias": "OSMagics",
        "unload_ext": "ExtensionMagics",
        "who": "NamespaceMagics",
        "who_ls": "NamespaceMagics",
        "whos": "NamespaceMagics",
        "xdel": "NamespaceMagics",
        "xmode": "BasicMagics"
       }
      },
      "text/plain": [
       "Available line magics:\n",
       "%alias  %alias_magic  %autoawait  %autocall  %automagic  %autosave  %bookmark  %cat  %cd  %clear  %colors  %conda  %config  %connect_info  %cp  %debug  %dhist  %dirs  %doctest_mode  %ed  %edit  %env  %gui  %hist  %history  %killbgscripts  %ldir  %less  %lf  %lk  %ll  %load  %load_ext  %loadpy  %logoff  %logon  %logstart  %logstate  %logstop  %ls  %lsmagic  %lx  %macro  %magic  %man  %matplotlib  %mkdir  %more  %mv  %notebook  %page  %pastebin  %pdb  %pdef  %pdoc  %pfile  %pinfo  %pinfo2  %pip  %popd  %pprint  %precision  %prun  %psearch  %psource  %pushd  %pwd  %pycat  %pylab  %qtconsole  %quickref  %recall  %rehashx  %reload_ext  %rep  %rerun  %reset  %reset_selective  %rm  %rmdir  %run  %save  %sc  %set_env  %store  %sx  %system  %tb  %time  %timeit  %unalias  %unload_ext  %who  %who_ls  %whos  %xdel  %xmode\n",
       "\n",
       "Available cell magics:\n",
       "%%!  %%HTML  %%SVG  %%bash  %%capture  %%debug  %%file  %%html  %%javascript  %%js  %%latex  %%markdown  %%perl  %%prun  %%pypy  %%python  %%python2  %%python3  %%ruby  %%script  %%sh  %%svg  %%sx  %%system  %%time  %%timeit  %%writefile\n",
       "\n",
       "Automagic is ON, % prefix IS NOT needed for line magics."
      ]
     },
     "execution_count": 13,
     "metadata": {},
     "output_type": "execute_result"
    }
   ],
   "source": [
    "#Discovering what else is available\n",
    "\n",
    "%lsmagic"
   ]
  },
  {
   "cell_type": "markdown",
   "id": "3189df1e",
   "metadata": {},
   "source": [
    "## 4 The Kernel"
   ]
  },
  {
   "cell_type": "markdown",
   "id": "a7541f79",
   "metadata": {},
   "source": [
    "## Exercise 1 :  A new shortcut"
   ]
  },
  {
   "cell_type": "markdown",
   "id": "34581de5",
   "metadata": {},
   "source": [
    "I have already created the shortcuts for both 1 & 2\n",
    "\n",
    "\n",
    "When i use the shortcut for 1, `ESC + 9 + 9` , since there is no confirmation prompt, it is as though my screen doesnt channge \n",
    "\n",
    "When i use the shortcut for 2, `ESC + 9 + 9` , all my cell outputs diappear."
   ]
  }
 ],
 "metadata": {
  "kernelspec": {
   "display_name": "Python 3 (ipykernel)",
   "language": "python",
   "name": "python3"
  },
  "language_info": {
   "codemirror_mode": {
    "name": "ipython",
    "version": 3
   },
   "file_extension": ".py",
   "mimetype": "text/x-python",
   "name": "python",
   "nbconvert_exporter": "python",
   "pygments_lexer": "ipython3",
   "version": "3.10.8"
  },
  "toc": {
   "base_numbering": 1,
   "nav_menu": {},
   "number_sections": true,
   "sideBar": true,
   "skip_h1_title": false,
   "title_cell": "Table of Contents",
   "title_sidebar": "Contents",
   "toc_cell": false,
   "toc_position": {},
   "toc_section_display": true,
   "toc_window_display": false
  },
  "vscode": {
   "interpreter": {
    "hash": "31f2aee4e71d21fbe5cf8b01ff0e069b9275f58929596ceb00d14d90e3e16cd6"
   }
  }
 },
 "nbformat": 4,
 "nbformat_minor": 5
}
