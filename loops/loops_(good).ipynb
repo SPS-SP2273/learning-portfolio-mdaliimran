{
 "cells": [
  {
   "cell_type": "markdown",
   "id": "123456",
   "metadata": {},
   "source": [
    "<div style=\"text-align:left;font-size:2em\"><span style=\"font-weight:bolder;font-size:1.25em\">SP2273 | Learning Portfolio</span><br><br><span style=\"font-weight:bold;color:darkred\">Loops (Good)</span></div>"
   ]
  },
  {
   "cell_type": "markdown",
   "id": "2362cd37",
   "metadata": {},
   "source": [
    "## 1 Interrupting the flow"
   ]
  },
  {
   "cell_type": "code",
   "execution_count": 14,
   "id": "dab9de4e",
   "metadata": {},
   "outputs": [
    {
     "name": "stdout",
     "output_type": "stream",
     "text": [
      "0\n",
      "1\n",
      "2\n",
      "3\n",
      "4\n",
      "5\n",
      "\n",
      "0\n",
      "1\n",
      "2\n",
      "3\n",
      "4\n",
      "5\n",
      "7\n",
      "8\n",
      "9\n",
      "\n",
      "0\n",
      "2\n",
      "4\n",
      "6\n",
      "8\n",
      "\n",
      "0\n",
      "1\n",
      "2\n",
      "3\n",
      "4\n",
      "5\n"
     ]
    }
   ],
   "source": [
    "#Break and continue are commands that interrupt the flow of the floop respectively\n",
    "#Break makes you get out of the loop itself\n",
    "#Continue makes you skip the code block for the current iteration\n",
    "#Break and continue can only be used for loops \n",
    "\n",
    "for i in range(10):\n",
    "    if i == 6:\n",
    "        break\n",
    "    print(i)\n",
    "\n",
    "print(\"\")\n",
    "\n",
    "for i in range(10):\n",
    "    if i == 6:\n",
    "        continue\n",
    "    print(i)\n",
    "    \n",
    "print('')\n",
    "\n",
    "for i in range(10):\n",
    "    if i % 2 != 0:\n",
    "        continue\n",
    "    print(i)       #printing the even numbers\n",
    " \n",
    "print('')\n",
    "\n",
    "number = 0    \n",
    "while not not True:\n",
    "    print(number)\n",
    "    number += 1\n",
    "    if number > 5:\n",
    "        break\n",
    "    "
   ]
  },
  {
   "cell_type": "markdown",
   "id": "a4e9a602",
   "metadata": {},
   "source": [
    "## 2 List comprehension!"
   ]
  },
  {
   "cell_type": "markdown",
   "id": "4d26ff9a",
   "metadata": {},
   "source": [
    "### 2.1 Basic syntax"
   ]
  },
  {
   "cell_type": "code",
   "execution_count": 26,
   "id": "33a3229c",
   "metadata": {},
   "outputs": [
    {
     "name": "stdout",
     "output_type": "stream",
     "text": [
      "['b', 'l', 'o', 'o', 'o', 'p']\n"
     ]
    }
   ],
   "source": [
    "# [ 'the thing you want as an output' for i in interable]\n",
    "\n",
    "#example : [i for i in range(2)] ---> [0,1]\n",
    "\n",
    "#example : [10 for i in range(10)] ---> [10, 10, 10, 10, 10, 10, 10, 10, 10, 10]\n",
    "\n",
    "#example : [i**2 for i in range(5)] ---> [0,1,4,9,16]\n",
    "\n",
    "a = [i for i in \"blooop\"]\n",
    "print(a)"
   ]
  },
  {
   "cell_type": "markdown",
   "id": "8b8db615",
   "metadata": {},
   "source": [
    "### 2.2 List comprehension with conditions"
   ]
  },
  {
   "cell_type": "code",
   "execution_count": 25,
   "id": "9656082c",
   "metadata": {},
   "outputs": [
    {
     "name": "stdout",
     "output_type": "stream",
     "text": [
      "[97, 98, 99]\n"
     ]
    }
   ],
   "source": [
    "#We can also specify conditions\n",
    "\n",
    "#example : [i for i in range(10) if i%2 == 0] ---> [0,2,4,6,8]\n",
    "\n",
    "#example : [i for i in \"string\" if i == \"s\"] ---> ['s']\n",
    "\n",
    "b = [ i for i in range(100) if i > 96]\n",
    "print(b)"
   ]
  },
  {
   "cell_type": "markdown",
   "id": "c6ae28d9",
   "metadata": {},
   "source": [
    "## 3 Other useful stuff"
   ]
  },
  {
   "cell_type": "markdown",
   "id": "c519ef94",
   "metadata": {},
   "source": [
    "### 3.1 for with unpacking"
   ]
  },
  {
   "cell_type": "code",
   "execution_count": 36,
   "id": "764dd3d1",
   "metadata": {},
   "outputs": [
    {
     "name": "stdout",
     "output_type": "stream",
     "text": [
      "1\n",
      "\n",
      "a = 1, b = 2, c=3\n",
      "\n",
      "Natasha Romanoff is Marvel's Black Widow!\n",
      "Tony Stark is Marvel's Iron Man!\n",
      "Stephen Strange is Marvel's Doctor Strange!\n",
      "\n",
      "Natasha Romanoff is Marvel's Black Widow!\n",
      "Tony Stark is Marvel's Iron Man!\n",
      "Stephen Strange is Marvel's Doctor Strange!\n",
      "\n",
      "spiderman is actually peter\n",
      "superman is actually kent\n",
      "ironman is actually tony\n"
     ]
    }
   ],
   "source": [
    "#Unpacking example\n",
    "\n",
    "a, b ,c = [1,2,3]\n",
    "print(a)\n",
    "\n",
    "print('')  #------------\n",
    "\n",
    "print(f'a = {a}, b = {b}, c={c}')\n",
    "\n",
    "print('')  #------------\n",
    "\n",
    "#Unpacking can be useful when combined with for loops, to extract elements in 2D lists\n",
    "\n",
    "\n",
    "py_superhero_info=[['Natasha Romanoff', 'Black Widow'],\n",
    "                     ['Tony Stark', 'Iron Man'],\n",
    "                     ['Stephen Strange', 'Doctor Strange']]\n",
    "\n",
    "for i in range(len(py_superhero_info)):\n",
    "    print(f\"{py_superhero_info[i][0]} is Marvel's {py_superhero_info[i][1]}!\")\n",
    "\n",
    "#Alternative method using unpacking\n",
    "\n",
    "print('') #----------\n",
    "\n",
    "py_superhero_info=[['Natasha Romanoff', 'Black Widow'],\n",
    "                     ['Tony Stark', 'Iron Man'],\n",
    "                     ['Stephen Strange', 'Doctor Strange']]\n",
    "\n",
    "for real_name, super_name in py_superhero_info:\n",
    "    print(f\"{real_name} is Marvel's {super_name}!\")\n",
    "    \n",
    "print('') #----\n",
    "\n",
    "#Another example\n",
    "\n",
    "listz = [['spiderman','peter'],['superman','kent'],['ironman','tony']]\n",
    "for i,j in listz:\n",
    "    print(f'{i} is actually {j}')\n",
    "    \n",
    "\n"
   ]
  },
  {
   "cell_type": "markdown",
   "id": "82d4375a",
   "metadata": {},
   "source": [
    "### 3.2 for with a zip()"
   ]
  },
  {
   "cell_type": "code",
   "execution_count": 47,
   "id": "88f1274e",
   "metadata": {},
   "outputs": [
    {
     "name": "stdout",
     "output_type": "stream",
     "text": [
      "spiderman is actually peter\n",
      "superman is actually kent\n",
      "ironman is actually tony\n"
     ]
    }
   ],
   "source": [
    "#zip can combine two lists\n",
    "\n",
    "list_1 = ['spiderman','superman','ironman']\n",
    "list_2 = ['peter','kent','tony']\n",
    "for i,j in zip(list_1,list_2):\n",
    "    print(f'{i} is actually {j}')\n",
    "\n"
   ]
  },
  {
   "cell_type": "markdown",
   "id": "edfb7e50",
   "metadata": {},
   "source": [
    "### 3.3 for with dictionaries"
   ]
  },
  {
   "cell_type": "code",
   "execution_count": 59,
   "id": "426105c3",
   "metadata": {},
   "outputs": [
    {
     "name": "stdout",
     "output_type": "stream",
     "text": [
      "spiderman is actually peter\n",
      "superman is actually kent\n",
      "ironman is actually tony\n",
      "\n",
      "spiderman is actually peter\n",
      "superman is actually kent\n",
      "ironman is actually tony\n"
     ]
    }
   ],
   "source": [
    "# You need to use .items() function to access both key and values\n",
    "\n",
    "superhero_info = {'spiderman': 'peter', 'superman':'kent','ironman':'tony'}\n",
    "\n",
    "for key,value in superhero_info.items():\n",
    "    print(f'{key} is actually {value}')\n",
    "\n",
    "print('')\n",
    "\n",
    "for key in superhero_info.keys():\n",
    "    print(f'{key} is actually {superhero_info[key]}')\n",
    "    \n",
    "\n"
   ]
  },
  {
   "cell_type": "markdown",
   "id": "0ff8ec68",
   "metadata": {},
   "source": [
    "## Exercise 1 :  Make me an odd list"
   ]
  },
  {
   "cell_type": "code",
   "execution_count": 10,
   "id": "6446c754",
   "metadata": {},
   "outputs": [
    {
     "name": "stdout",
     "output_type": "stream",
     "text": [
      "[1, 9, 25, 49, 81]\n"
     ]
    }
   ],
   "source": [
    "list_1 = []\n",
    "for i in range(10):\n",
    "    if i%2 != 0:\n",
    "        list_1.append(i**2)\n",
    "    else:\n",
    "        continue\n",
    "\n",
    "print(list_1)        \n",
    "        \n",
    "        \n",
    "\n",
    "\n"
   ]
  },
  {
   "cell_type": "markdown",
   "id": "05d20db8",
   "metadata": {},
   "source": [
    "## Exercise 2 :  Make me another odd list"
   ]
  },
  {
   "cell_type": "code",
   "execution_count": 2,
   "id": "f8029002",
   "metadata": {},
   "outputs": [
    {
     "name": "stdout",
     "output_type": "stream",
     "text": [
      "[1, 9, 25, 49, 81]\n"
     ]
    }
   ],
   "source": [
    "a = [i**2 for i in range(10) if i%2 != 0 ]\n",
    "\n",
    "print(a)\n",
    "\n",
    "\n"
   ]
  },
  {
   "cell_type": "markdown",
   "id": "1cee1ea1",
   "metadata": {},
   "source": [
    "## Exercise 3 :  Time me!"
   ]
  },
  {
   "cell_type": "code",
   "execution_count": 37,
   "id": "a490b7d6",
   "metadata": {},
   "outputs": [
    {
     "name": "stdout",
     "output_type": "stream",
     "text": [
      "[1, 9, 25, 49, 81]\n",
      "384 µs ± 0 ns per loop (mean ± std. dev. of 1 run, 1 loop each)\n"
     ]
    }
   ],
   "source": [
    "%%timeit -n 1 -r 1\n",
    "list_1 = []\n",
    "for i in range(10):\n",
    "    if i%2 != 0:\n",
    "        list_1.append(i**2)\n",
    "    else:\n",
    "        continue\n",
    "        \n",
    "print(list_1)        \n",
    "        \n",
    "\n",
    "   \n",
    "\n",
    "\n",
    "\n",
    "\n",
    "\n",
    "\n",
    "\n"
   ]
  },
  {
   "cell_type": "code",
   "execution_count": 44,
   "id": "b04f2a22",
   "metadata": {},
   "outputs": [
    {
     "name": "stdout",
     "output_type": "stream",
     "text": [
      "[1, 9, 25, 49, 81]\n",
      "372 µs ± 0 ns per loop (mean ± std. dev. of 1 run, 1 loop each)\n"
     ]
    }
   ],
   "source": [
    "%%timeit -n 1 -r 1\n",
    "\n",
    "a = [i**2 for i in range(10) if i%2 != 0 ]\n",
    "\n",
    "print(a)"
   ]
  },
  {
   "cell_type": "markdown",
   "id": "71037cfc",
   "metadata": {},
   "source": [
    "***The time taken using the list comprehension method is shorter***"
   ]
  }
 ],
 "metadata": {
  "kernelspec": {
   "display_name": "Python 3 (ipykernel)",
   "language": "python",
   "name": "python3"
  },
  "language_info": {
   "codemirror_mode": {
    "name": "ipython",
    "version": 3
   },
   "file_extension": ".py",
   "mimetype": "text/x-python",
   "name": "python",
   "nbconvert_exporter": "python",
   "pygments_lexer": "ipython3",
   "version": "3.10.8"
  },
  "toc": {
   "base_numbering": 1,
   "nav_menu": {},
   "number_sections": true,
   "sideBar": true,
   "skip_h1_title": false,
   "title_cell": "Table of Contents",
   "title_sidebar": "Contents",
   "toc_cell": false,
   "toc_position": {},
   "toc_section_display": true,
   "toc_window_display": false
  },
  "vscode": {
   "interpreter": {
    "hash": "31f2aee4e71d21fbe5cf8b01ff0e069b9275f58929596ceb00d14d90e3e16cd6"
   }
  }
 },
 "nbformat": 4,
 "nbformat_minor": 5
}
