{
 "cells": [
  {
   "cell_type": "markdown",
   "id": "123456",
   "metadata": {},
   "source": [
    "<div style=\"text-align:left;font-size:2em\"><span style=\"font-weight:bolder;font-size:1.25em\">SP2273 | Learning Portfolio</span><br><br><span style=\"font-weight:bold;color:darkred\">Loops (Need)</span></div>"
   ]
  },
  {
   "cell_type": "markdown",
   "id": "fe05cf16",
   "metadata": {},
   "source": [
    "## 1 for"
   ]
  },
  {
   "cell_type": "markdown",
   "id": "635ccbde",
   "metadata": {},
   "source": [
    "### 1.1 for with a list"
   ]
  },
  {
   "cell_type": "code",
   "execution_count": 2,
   "id": "059b3a18",
   "metadata": {},
   "outputs": [
    {
     "name": "stdout",
     "output_type": "stream",
     "text": [
      "Brocolli is a vegetable!\n",
      "Cabbage is a vegetable!\n",
      "Reddish is a vegetable!\n",
      "Carrots is a vegetable!\n"
     ]
    }
   ],
   "source": [
    "list_vegetables = ['brocolli','cabbage','reddish','carrots']\n",
    "\n",
    "for i in list_vegetables:\n",
    "    print(f'{i.title()} is a vegetable!')\n",
    "    \n",
    "#for loop can directly loop through the elements in a list\n"
   ]
  },
  {
   "cell_type": "markdown",
   "id": "6559560e",
   "metadata": {},
   "source": [
    "### 1.2 for with enumerate"
   ]
  },
  {
   "cell_type": "code",
   "execution_count": 15,
   "id": "82d07969",
   "metadata": {},
   "outputs": [
    {
     "name": "stdout",
     "output_type": "stream",
     "text": [
      "0 --> a\n",
      "1 --> b\n",
      "2 --> c\n",
      "3 --> d\n",
      "4 --> e\n",
      "<class 'tuple'>\n",
      "<class 'tuple'>\n",
      "<class 'tuple'>\n",
      "<class 'tuple'>\n",
      "<class 'tuple'>\n",
      "a is the lower case for A\n",
      "b is the lower case for B\n",
      "c is the lower case for C\n",
      "100\n",
      "101\n",
      "102\n"
     ]
    }
   ],
   "source": [
    "#You can think of enumerate as something that keeps count\n",
    "\n",
    "#When you use for loop with enumerate, you are iterating over both the indexes and elements\n",
    "\n",
    "list_1 = ['a','b','c','d','e']\n",
    "\n",
    "for i,name in enumerate(list_1):\n",
    "    print(f'{i} --> {name}')\n",
    "    \n",
    "#note : The i, name pair is stored as a tuple\n",
    "\n",
    "for t in enumerate(list_1):\n",
    "    print(type(t))\n",
    "\n",
    "#Enumerate is also useful when we want to loop over 2 different list(especially of same size)\n",
    "\n",
    "list_1 = ['a','b','c']\n",
    "list_2 = ['A','B','C']\n",
    "\n",
    "for i, s in enumerate(list_1):\n",
    "    print(f'{s} is the lower case for {list_2[i]}')\n",
    "    \n",
    "#By default, enumerate starts counting from 0. We can easily change this\n",
    "\n",
    "for i,name in enumerate(list_1,100):\n",
    "    print(i)\n",
    "\n",
    "#As you can see from the output, it starts counting from 100, instead of 0."
   ]
  },
  {
   "cell_type": "markdown",
   "id": "1282e1de",
   "metadata": {},
   "source": [
    "### 1.3 for with range"
   ]
  },
  {
   "cell_type": "code",
   "execution_count": 34,
   "id": "3fcaefac",
   "metadata": {},
   "outputs": [
    {
     "name": "stdout",
     "output_type": "stream",
     "text": [
      "0\n",
      "1\n",
      "2\n",
      "3\n",
      "4\n",
      "5\n",
      "6\n",
      "7\n",
      "8\n",
      "15\n",
      "14\n",
      "13\n",
      "12\n",
      "11\n",
      "10\n",
      "14\n",
      "18\n",
      "22\n",
      "26\n",
      "30\n",
      "34\n",
      "38\n",
      "a is the lowercase of A\n",
      "b is the lowercase of B\n",
      "c is the lowercase of C\n"
     ]
    }
   ],
   "source": [
    "#for loops can also loop through range type\n",
    "\n",
    "for i in range(9):\n",
    "    print(i)\n",
    "\n",
    "#note: Range always stops at one short of the ending number\n",
    "\n",
    "#You can modify its start, end and step values\n",
    "\n",
    "for i in range(15,10,-1):\n",
    "    print(i)\n",
    "\n",
    "for i in range(10,40,4):\n",
    "    print(i)\n",
    "    \n",
    "#you can only use enumerate and range with looping structures\n",
    "\n",
    "#for example, you cant just print range(6) or enumerate([1,2,3])\n",
    "\n",
    "list_1 = ['a','b','c']\n",
    "list_2 = ['A','B','C']\n",
    "\n",
    "for i in range(len(list_1)):\n",
    "    print(f'{list_1[i]} is the lowercase of {list_2[i]}')\n"
   ]
  },
  {
   "cell_type": "markdown",
   "id": "0cd0ebf5",
   "metadata": {},
   "source": [
    "## 2 while\n"
   ]
  },
  {
   "cell_type": "code",
   "execution_count": 36,
   "id": "15526546",
   "metadata": {},
   "outputs": [
    {
     "name": "stdout",
     "output_type": "stream",
     "text": [
      "10\n"
     ]
    }
   ],
   "source": [
    "#A while loop is a set-up that continues running, as long as it's defined condition is true\n",
    "\n",
    "counter = 0\n",
    "while counter <10:\n",
    "    counter += 1\n",
    "\n",
    "print(counter) \n",
    "\n",
    "\n",
    "#If the condition is no loner true, the loop stops\n",
    "\n",
    "#While loops can be useful when you have no information on the number of iterations required\n",
    "    "
   ]
  },
  {
   "cell_type": "markdown",
   "id": "62c75107",
   "metadata": {},
   "source": [
    "## Exercise 1 :  Make me a list"
   ]
  },
  {
   "cell_type": "code",
   "execution_count": 42,
   "id": "58ed83e3",
   "metadata": {},
   "outputs": [
    {
     "name": "stdout",
     "output_type": "stream",
     "text": [
      "[0, 1, 4, 9, 16, 25, 36, 49, 64, 81]\n",
      "[0, 1, 4, 9, 16, 25, 36, 49, 64, 81]\n"
     ]
    }
   ],
   "source": [
    "list_1 = []\n",
    "for i in range(0,10):\n",
    "    list_1.append(i**2)\n",
    "\n",
    "print(list_1)    \n",
    "    \n",
    "\n",
    "#Another method\n",
    "\n",
    "list_2 = []\n",
    "for i in range(0,10):\n",
    "    list_2 += [i**2]\n",
    "    \n",
    "print(list_2)\n"
   ]
  },
  {
   "cell_type": "markdown",
   "id": "09a862f1",
   "metadata": {},
   "source": [
    "## Exercise 2 :  Make me an odd list"
   ]
  },
  {
   "cell_type": "code",
   "execution_count": 44,
   "id": "3f0a0c64",
   "metadata": {},
   "outputs": [
    {
     "name": "stdout",
     "output_type": "stream",
     "text": [
      "[1, 9, 25, 49, 81]\n"
     ]
    }
   ],
   "source": [
    "list_1 = []\n",
    "for i in range(1,10,2):\n",
    "    list_1 += [i**2]\n",
    "    \n",
    "print(list_1)\n",
    "    \n",
    "\n",
    "\n"
   ]
  },
  {
   "cell_type": "markdown",
   "id": "3a115a9a",
   "metadata": {},
   "source": [
    "## Exercise 3 :  Make me another odd list"
   ]
  },
  {
   "cell_type": "code",
   "execution_count": 57,
   "id": "aab9b23a",
   "metadata": {},
   "outputs": [
    {
     "name": "stdout",
     "output_type": "stream",
     "text": [
      "[1, 9, 25, 49, 81]\n"
     ]
    }
   ],
   "source": [
    "list_1 = []\n",
    "counter = 0\n",
    "while counter < 10:\n",
    "    if counter % 2 != 0:\n",
    "        list_1 += [counter**2]\n",
    "    else:\n",
    "        pass\n",
    "    counter += 1    \n",
    "\n",
    "print(list_1)    "
   ]
  }
 ],
 "metadata": {
  "kernelspec": {
   "display_name": "Python 3 (ipykernel)",
   "language": "python",
   "name": "python3"
  },
  "language_info": {
   "codemirror_mode": {
    "name": "ipython",
    "version": 3
   },
   "file_extension": ".py",
   "mimetype": "text/x-python",
   "name": "python",
   "nbconvert_exporter": "python",
   "pygments_lexer": "ipython3",
   "version": "3.10.8"
  },
  "toc": {
   "base_numbering": 1,
   "nav_menu": {},
   "number_sections": true,
   "sideBar": true,
   "skip_h1_title": false,
   "title_cell": "Table of Contents",
   "title_sidebar": "Contents",
   "toc_cell": false,
   "toc_position": {},
   "toc_section_display": true,
   "toc_window_display": false
  },
  "vscode": {
   "interpreter": {
    "hash": "31f2aee4e71d21fbe5cf8b01ff0e069b9275f58929596ceb00d14d90e3e16cd6"
   }
  }
 },
 "nbformat": 4,
 "nbformat_minor": 5
}
