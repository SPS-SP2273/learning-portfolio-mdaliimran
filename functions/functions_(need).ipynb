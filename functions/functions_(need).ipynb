{
 "cells": [
  {
   "cell_type": "markdown",
   "id": "123456",
   "metadata": {},
   "source": [
    "<div style=\"text-align:left;font-size:2em\"><span style=\"font-weight:bolder;font-size:1.25em\">SP2273 | Learning Portfolio</span><br><br><span style=\"font-weight:bold;color:darkred\">Functions (Need)</span></div>"
   ]
  },
  {
   "cell_type": "markdown",
   "id": "fb8aa609",
   "metadata": {},
   "source": [
    "## 1 User defined functions"
   ]
  },
  {
   "cell_type": "markdown",
   "id": "fdc3aa49",
   "metadata": {},
   "source": [
    "### 1.1 Named functions that return"
   ]
  },
  {
   "cell_type": "code",
   "execution_count": 3,
   "id": "9e3d331a",
   "metadata": {},
   "outputs": [
    {
     "name": "stdout",
     "output_type": "stream",
     "text": [
      "False\n",
      "\n",
      "True\n",
      "(5, 1)\n",
      "(1, 5, 3.0)\n"
     ]
    }
   ],
   "source": [
    "#You need to use def, ':' and indent for function's code block\n",
    "#You may or may not insert parameters\n",
    "\n",
    "\n",
    "def is_odd(n):\n",
    "    if n % 2 != 0:\n",
    "        return True\n",
    "    else: \n",
    "        return False\n",
    "    \n",
    "print(is_odd(4))    \n",
    "print('') #-------\n",
    "print(is_odd(7))\n",
    "\n",
    "#You can also return an ordered pair\n",
    "\n",
    "import numpy as np\n",
    "\n",
    "np_array = np.array([1,2,3,4,5])\n",
    "\n",
    "def max_min(array):\n",
    "    return array.max(), array.min()\n",
    "\n",
    "print(max_min(np_array))\n",
    "\n",
    "def basic_stats(numbers):\n",
    "    np_numbers=np.array(numbers)\n",
    "    return np_numbers.min(), np_numbers.max(), np_numbers.mean()\n",
    "\n",
    "print(basic_stats([1,2,3,4,5]))\n",
    "\n"
   ]
  },
  {
   "cell_type": "markdown",
   "id": "0355a515",
   "metadata": {},
   "source": [
    "### 1.2 Named functions that don’t return"
   ]
  },
  {
   "cell_type": "code",
   "execution_count": 28,
   "id": "e46471bc",
   "metadata": {},
   "outputs": [
    {
     "name": "stdout",
     "output_type": "stream",
     "text": [
      "None\n"
     ]
    }
   ],
   "source": [
    "#Functions with no return value by default hold None value\n",
    "\n",
    "def foo():\n",
    "    1 + 2\n",
    "    \n",
    "print(foo())    "
   ]
  },
  {
   "cell_type": "markdown",
   "id": "b582d822",
   "metadata": {},
   "source": [
    "### 1.3 Anonymous functions"
   ]
  },
  {
   "cell_type": "code",
   "execution_count": 31,
   "id": "bc779e1a",
   "metadata": {},
   "outputs": [
    {
     "name": "stdout",
     "output_type": "stream",
     "text": [
      "[[0, 2, 1], [1, 1, 1], [1, 2, 3], [0, 0, 9], [4, 5, 6], [7, 8, 9]]\n",
      "\n",
      "[[0, 2, 1], [1, 1, 1], [1, 2, 3], [4, 5, 6], [7, 8, 9], [0, 0, 9]]\n"
     ]
    }
   ],
   "source": [
    "#Lambda functions are suitable for short one liners\n",
    "#Lambda functions return the value of the last statement\n",
    "\n",
    "list_2d = [[1,2,3],[4,5,6],[7,8,9],[0,2,1],[1,1,1],[0,0,9]]\n",
    "\n",
    "print(sorted(list_2d, key = lambda x:sum(x)))\n",
    "\n",
    "print('')\n",
    "\n",
    "print(sorted(list_2d, key = lambda x:x[-1]))"
   ]
  },
  {
   "cell_type": "markdown",
   "id": "47274344",
   "metadata": {},
   "source": [
    "### 1.4 Optional arguments"
   ]
  },
  {
   "cell_type": "code",
   "execution_count": 48,
   "id": "0403e3b8",
   "metadata": {},
   "outputs": [
    {
     "name": "stdout",
     "output_type": "stream",
     "text": [
      "False\n",
      "True\n"
     ]
    }
   ],
   "source": [
    "#We can define our functions with a default value for our parameter, so it has always something to work with\n",
    "#This allows us to run the function without an argument\n",
    "\n",
    "def foo(x=2):\n",
    "    if x > 2:\n",
    "        return True\n",
    "    else:\n",
    "        return False\n",
    "    \n",
    "print(foo())\n",
    "print(foo(3))\n",
    "\n"
   ]
  },
  {
   "cell_type": "code",
   "execution_count": 57,
   "id": "5dcffa04",
   "metadata": {},
   "outputs": [
    {
     "name": "stdout",
     "output_type": "stream",
     "text": [
      "2--is--even\n",
      "0 1 2 3 4 "
     ]
    }
   ],
   "source": [
    "#Extra info: Documentation for print\n",
    "\n",
    "#   ?print\n",
    "\n",
    "#    Docstring:\n",
    "#    print(value, ..., sep=' ', end='\\n', file=sys.stdout, flush=False)\n",
    "#\n",
    "#    Prints the values to a stream, or to sys.stdout by default.\n",
    "#    Optional keyword arguments:\n",
    "#    file:  a file-like object (stream); defaults to the current sys.stdout.\n",
    "#    sep:   string inserted between values, default a space.\n",
    "#    end:   string appended after the last value, default a newline.\n",
    "#    flush: whether to forcibly flush the stream.\n",
    "#    Type:      builtin_function_or_method\n",
    "\n",
    "print(\"2\", \"is\", \"even\", sep = '--')\n",
    "\n",
    "for i in range(5):\n",
    "    print(i, end=' ')"
   ]
  },
  {
   "cell_type": "markdown",
   "id": "545b9afe",
   "metadata": {},
   "source": [
    "## 2 The importance of functions?"
   ]
  },
  {
   "cell_type": "markdown",
   "id": "fcf3d57a",
   "metadata": {},
   "source": [
    "### 2.1 An argument for functions"
   ]
  },
  {
   "cell_type": "markdown",
   "id": "568a0e06",
   "metadata": {},
   "source": [
    "Functions can be used for abstraction of details, reusability of code and maintainability of code\n"
   ]
  },
  {
   "cell_type": "markdown",
   "id": "bcfb950f",
   "metadata": {},
   "source": [
    "### 2.2 A word of caution"
   ]
  },
  {
   "cell_type": "markdown",
   "id": "29283b38",
   "metadata": {},
   "source": [
    "Word of caution = I have seen instances where functions are abused; for example, by trying to do too much or having too many arguments. They can also be overused. Having too many functions can make it difficult to read your code and also increase computational overheads. You will get a better feel for when to use functions with experience, but please bear in mind that functions can be misused.\n"
   ]
  },
  {
   "cell_type": "markdown",
   "id": "6e2a19d1",
   "metadata": {},
   "source": [
    "## Exercise 1 :  Do you know why?"
   ]
  },
  {
   "cell_type": "markdown",
   "id": "9634da52",
   "metadata": {},
   "source": [
    "In the case where name == Batman, the if <condition> becomes True and the code block is executed, returning **'Hello Batman! So, nice to meet you!'**. Once Python sees the return line, it jumps out of the function with this return value. \n",
    "    \n",
    "In all other cases, the if <condition> becomes False and the code block is not executed, therefore it goes past the 'function body' and goes to the last return line. The last line contains a return statement, so when Pythom sees it, it jumps out of the function with this return value, which is **f'Hello {name}!**"
   ]
  },
  {
   "cell_type": "markdown",
   "id": "cc4656f2",
   "metadata": {},
   "source": [
    "## Exercise 2 :  Calculator functions"
   ]
  },
  {
   "cell_type": "code",
   "execution_count": 23,
   "id": "46e14412",
   "metadata": {},
   "outputs": [
    {
     "name": "stdout",
     "output_type": "stream",
     "text": [
      "[100 100 100 100 100]\n",
      "\n",
      "[-28 -32 -12  52 -46]\n",
      "\n",
      "[2304 2244 2464 1824 1971]\n",
      "\n",
      "[0.5625     0.51515152 0.78571429 3.16666667 0.36986301]\n"
     ]
    }
   ],
   "source": [
    "def add(x,y):\n",
    "    return x+y\n",
    "def subtract(x,y):\n",
    "    return x - y\n",
    "def multiply(x,y):\n",
    "    return x*y\n",
    "def divide(x,y):\n",
    "    if type(x) == np.ndarray and type(y) == np.ndarray:\n",
    "        if y.all()== 0:\n",
    "            exit()\n",
    "        else:\n",
    "            return x/y\n",
    "    elif type(x) == int and type(y) == int:\n",
    "        return x/y\n",
    "    \n",
    "x= np.array([36, 34, 44, 76, 27])\n",
    "y= np.array([64, 66, 56, 24, 73])\n",
    "\n",
    "print(add(x,y))\n",
    "\n",
    "print('')\n",
    "\n",
    "print(subtract(x,y))\n",
    "\n",
    "print('')\n",
    "\n",
    "print(multiply(x,y))\n",
    "\n",
    "print('')\n",
    "\n",
    "print(divide(x,y))\n",
    "\n",
    "\n",
    "\n",
    "\n"
   ]
  },
  {
   "cell_type": "markdown",
   "id": "02629f55",
   "metadata": {},
   "source": [
    "## Exercise 3 :  max_info() with NumPy"
   ]
  },
  {
   "cell_type": "code",
   "execution_count": 62,
   "id": "ffa5a63b",
   "metadata": {},
   "outputs": [
    {
     "name": "stdout",
     "output_type": "stream",
     "text": [
      "(83, 2)\n"
     ]
    }
   ],
   "source": [
    "def max_info(numbers):\n",
    "    numbers = np.array(numbers)\n",
    "    return numbers.max(), numbers.argmax()  #Returns maximum number in list, index of the maximum number in the list\n",
    "\n",
    "numbers = [40, 27, 83, 44, 74, 51, 76, 77, 10, 49]\n",
    "\n",
    "print(max_info(numbers))\n",
    "\n"
   ]
  }
 ],
 "metadata": {
  "kernelspec": {
   "display_name": "Python 3 (ipykernel)",
   "language": "python",
   "name": "python3"
  },
  "language_info": {
   "codemirror_mode": {
    "name": "ipython",
    "version": 3
   },
   "file_extension": ".py",
   "mimetype": "text/x-python",
   "name": "python",
   "nbconvert_exporter": "python",
   "pygments_lexer": "ipython3",
   "version": "3.10.8"
  },
  "toc": {
   "base_numbering": 1,
   "nav_menu": {},
   "number_sections": true,
   "sideBar": true,
   "skip_h1_title": false,
   "title_cell": "Table of Contents",
   "title_sidebar": "Contents",
   "toc_cell": false,
   "toc_position": {},
   "toc_section_display": true,
   "toc_window_display": false
  },
  "vscode": {
   "interpreter": {
    "hash": "31f2aee4e71d21fbe5cf8b01ff0e069b9275f58929596ceb00d14d90e3e16cd6"
   }
  }
 },
 "nbformat": 4,
 "nbformat_minor": 5
}
