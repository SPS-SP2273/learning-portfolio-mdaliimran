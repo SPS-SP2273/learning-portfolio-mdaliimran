{
 "cells": [
  {
   "cell_type": "markdown",
   "id": "123456",
   "metadata": {},
   "source": [
    "<div style=\"text-align:left;font-size:2em\"><span style=\"font-weight:bolder;font-size:1.25em\">SP2273 | Learning Portfolio</span><br><br><span style=\"font-weight:bold;color:darkred\">Functions (Good)</span></div>"
   ]
  },
  {
   "cell_type": "markdown",
   "id": "2b3cfad3",
   "metadata": {},
   "source": [
    "## 1 Check, balances and contingencies"
   ]
  },
  {
   "cell_type": "markdown",
   "id": "f0187a33",
   "metadata": {},
   "source": [
    "### 1.1 assert"
   ]
  },
  {
   "cell_type": "code",
   "execution_count": 43,
   "id": "d61ac73d",
   "metadata": {},
   "outputs": [
    {
     "name": "stdout",
     "output_type": "stream",
     "text": [
      "0.5\n"
     ]
    },
    {
     "ename": "AssertionError",
     "evalue": "Lose your head",
     "output_type": "error",
     "traceback": [
      "\u001b[0;31m---------------------------------------------------------------------------\u001b[0m",
      "\u001b[0;31mAssertionError\u001b[0m                            Traceback (most recent call last)",
      "Cell \u001b[0;32mIn[43], line 15\u001b[0m\n\u001b[1;32m     11\u001b[0m     \u001b[38;5;28;01mreturn\u001b[39;00m x\u001b[38;5;241m/\u001b[39my\n\u001b[1;32m     13\u001b[0m \u001b[38;5;28mprint\u001b[39m(divide(\u001b[38;5;241m1\u001b[39m,\u001b[38;5;241m2\u001b[39m))\n\u001b[0;32m---> 15\u001b[0m \u001b[38;5;28mprint\u001b[39m(\u001b[43mdivide\u001b[49m\u001b[43m(\u001b[49m\u001b[38;5;241;43m1\u001b[39;49m\u001b[43m,\u001b[49m\u001b[38;5;241;43m0\u001b[39;49m\u001b[43m)\u001b[49m)\n",
      "Cell \u001b[0;32mIn[43], line 10\u001b[0m, in \u001b[0;36mdivide\u001b[0;34m(x, y)\u001b[0m\n\u001b[1;32m      9\u001b[0m \u001b[38;5;28;01mdef\u001b[39;00m \u001b[38;5;21mdivide\u001b[39m(x,y):\n\u001b[0;32m---> 10\u001b[0m     \u001b[38;5;28;01massert\u001b[39;00m y \u001b[38;5;241m!=\u001b[39m \u001b[38;5;241m0\u001b[39m, \u001b[38;5;124m\"\u001b[39m\u001b[38;5;124mLose your head\u001b[39m\u001b[38;5;124m\"\u001b[39m\n\u001b[1;32m     11\u001b[0m     \u001b[38;5;28;01mreturn\u001b[39;00m x\u001b[38;5;241m/\u001b[39my\n",
      "\u001b[0;31mAssertionError\u001b[0m: Lose your head"
     ]
    }
   ],
   "source": [
    "#syntax is --> assert <condition to check>, message\n",
    "\n",
    "#This command basically checks the condition and halt the execution if necessary\n",
    "\n",
    "#Assert stops the flow is condition fails\n",
    "\n",
    "#Assert can be very useful as a debugging tool as it halts the programme where the error occers\n",
    "\n",
    "def divide(x,y):\n",
    "    assert y != 0, \"Lose your head\"\n",
    "    return x/y\n",
    "\n",
    "print(divide(1,2))\n",
    "\n",
    "print(divide(1,0))"
   ]
  },
  {
   "cell_type": "markdown",
   "id": "e7296dd9",
   "metadata": {},
   "source": [
    "### 1.2 try-except"
   ]
  },
  {
   "cell_type": "code",
   "execution_count": 7,
   "id": "cf69266c",
   "metadata": {},
   "outputs": [
    {
     "name": "stdout",
     "output_type": "stream",
     "text": [
      "Give me a number and i will calculate it's absolute value: heheheheeh\n",
      "Whoops, can't help ya\n"
     ]
    }
   ],
   "source": [
    "#A technical name for things going wrong is exceptions\n",
    "\n",
    "#try-except is a allows us to catch and handle respective exceptions\n",
    "\n",
    "try: \n",
    "    number = input(\"Give me a number and i will calculate it's absolute value: \")\n",
    "    if int(number) < 0:\n",
    "        absv = -1*int(number)\n",
    "    else:\n",
    "        absv = int(number)\n",
    "    print(f\"The absolute value of your number is {absv}\")    \n",
    "        \n",
    "except:\n",
    "    print(\"Whoops, can't help ya\")\n",
    "    \n",
    "#Basically, If something (anything) goes wrong, Python will ignore the error and run the code in the except block.\n",
    "        "
   ]
  },
  {
   "cell_type": "markdown",
   "id": "f2f3b883",
   "metadata": {},
   "source": [
    "## 2 Some loose ends"
   ]
  },
  {
   "cell_type": "markdown",
   "id": "a06f034a",
   "metadata": {},
   "source": [
    "### 2.1 Positional, keyword and default arguments"
   ]
  },
  {
   "cell_type": "code",
   "execution_count": 10,
   "id": "cc7210e9",
   "metadata": {},
   "outputs": [
    {
     "data": {
      "text/plain": [
       "'\\n\\nMost importantly, we can combine the ways we assign parameters\\n\\nfoob(x=1,y=4) --> This works, we are using 2 keyword and 1 default\\n\\nfoo(1,y=4) --> This works, we are using 1 positional, 1 keyword and 1 default\\n\\nHowever, we cannot mix keyword and positional in this order, as it confuses python\\n\\nfoo(z=3,1,2) --> This does not work\\n\\n'"
      ]
     },
     "execution_count": 10,
     "metadata": {},
     "output_type": "execute_result"
    }
   ],
   "source": [
    "#There are 3 ways to pass arguments into function ; Positional, Keyword and Default\n",
    "\n",
    "def foo(x,y,z):\n",
    "    return\n",
    "\n",
    "\"\"\"\n",
    "\n",
    "In the above function, if we were to call foo(1,2,3), we are passing the arguments as positional\n",
    "\n",
    "If we were to call foo(x=3,z=2,y=1), we are passing the arguments as keywords. The order DOES NOT matter\n",
    "\n",
    "\"\"\"\n",
    "\n",
    "def foob(x,y,z=4):\n",
    "    return\n",
    "\n",
    "\"\"\"\n",
    "\n",
    "In this above function, we have already given the parameter z the default value which is 4. This means we\n",
    "are not obliged to give a value to z when calling the function\n",
    "\n",
    "If we were to call foo(1,2), we are passing the arguments for x and y and positional and z will take on the default\n",
    "value of 4. \n",
    "\n",
    "We can also call foo(1,2,3), if we would like to override the default value for z\n",
    "\n",
    "\"\"\"\n",
    "\n",
    "\"\"\"\n",
    "\n",
    "Most importantly, we can combine the ways we assign parameters\n",
    "\n",
    "foob(x=1,y=4) --> This works, we are using 2 keyword and 1 default\n",
    "\n",
    "foo(1,y=4) --> This works, we are using 1 positional, 1 keyword and 1 default\n",
    "\n",
    "However, we cannot mix keyword and positional in this order, as it confuses python\n",
    "\n",
    "foo(z=3,1,2) --> This does not work\n",
    "\n",
    "\"\"\"\n"
   ]
  },
  {
   "cell_type": "markdown",
   "id": "6505ef8c",
   "metadata": {},
   "source": [
    "### 2.2 Docstrings"
   ]
  },
  {
   "cell_type": "code",
   "execution_count": 13,
   "id": "a8d727d8",
   "metadata": {},
   "outputs": [
    {
     "name": "stdout",
     "output_type": "stream",
     "text": [
      "Help on function square in module __main__:\n",
      "\n",
      "square(x)\n",
      "    This function will return to you the square of the number\n",
      "\n"
     ]
    }
   ],
   "source": [
    "#Functions allow the implementation of docstrings which documents what happens in the function\n",
    "\n",
    "#A docstring needs to be sandwiched between a pair of ''' (or \"\"\") and can span multiple lines\n",
    "\n",
    "#This documentation (i.e. the docstring) is displayed when we ask Python to show us the help info using help().\n",
    "\n",
    "def square(x):\n",
    "    '''\n",
    "    This function will return to you the square of the number\n",
    "    '''\n",
    "    return x*x\n",
    "\n",
    "help(square)\n"
   ]
  },
  {
   "cell_type": "markdown",
   "id": "4d37ebb6",
   "metadata": {},
   "source": [
    "### 2.3 Function are first class citizens"
   ]
  },
  {
   "cell_type": "code",
   "execution_count": 18,
   "id": "1f2454e8",
   "metadata": {},
   "outputs": [
    {
     "name": "stdout",
     "output_type": "stream",
     "text": [
      "5\n"
     ]
    }
   ],
   "source": [
    "#We can pass functions as arguments for other functions\n",
    "\n",
    "def goo(x):\n",
    "    return x+4\n",
    "\n",
    "def foo(x,goo):\n",
    "    return goo(x)\n",
    "\n",
    "print(foo(1,goo))\n",
    "\n",
    "#Note that you dont have to include paranthesis for the function, when it is an argument"
   ]
  },
  {
   "cell_type": "markdown",
   "id": "b6c18ed6",
   "metadata": {},
   "source": [
    "### 2.4 More unpacking"
   ]
  },
  {
   "cell_type": "code",
   "execution_count": 27,
   "id": "8b02d418",
   "metadata": {},
   "outputs": [
    {
     "name": "stdout",
     "output_type": "stream",
     "text": [
      "1 2 3\n",
      "1 2\n",
      "1 [2, 3, 4] 5\n",
      "[2, 3, 4]\n",
      "[2, 3, 4, 5, 6]\n"
     ]
    }
   ],
   "source": [
    "#Basic unpacking\n",
    "\n",
    "import numpy as np\n",
    "\n",
    "x,y,z = np.array([1,2,3])\n",
    "\n",
    "print(x,y,z)\n",
    "\n",
    "print(x,y)\n",
    "\n",
    "#However, we cannot unpack like this\n",
    "\n",
    "#a,b,c = np.array([1,2,3,4,5])\n",
    "\n",
    "#print(a,b,c) ---> ValueError: too many values to unpack (expected 3)\n",
    "\n",
    "#We can make use of *\n",
    "\n",
    "a, *b, c = np.array([1,2,3,4,5])\n",
    "\n",
    "print(a,b,c)\n",
    "\n",
    "print(b)\n",
    "\n",
    "a,*b = [1,2,3,4,5,6]\n",
    "\n",
    "print(b)"
   ]
  },
  {
   "cell_type": "markdown",
   "id": "e9ead7ec",
   "metadata": {},
   "source": [
    "## Exercise 1 :  A better calculator I"
   ]
  },
  {
   "cell_type": "code",
   "execution_count": 36,
   "id": "181d5af4",
   "metadata": {},
   "outputs": [
    {
     "name": "stdout",
     "output_type": "stream",
     "text": [
      "0.5\n"
     ]
    },
    {
     "ename": "AssertionError",
     "evalue": "Sorry, it is undefined",
     "output_type": "error",
     "traceback": [
      "\u001b[0;31m---------------------------------------------------------------------------\u001b[0m",
      "\u001b[0;31mAssertionError\u001b[0m                            Traceback (most recent call last)",
      "Cell \u001b[0;32mIn[36], line 16\u001b[0m\n\u001b[1;32m     12\u001b[0m     \u001b[38;5;28;01mreturn\u001b[39;00m x\u001b[38;5;241m/\u001b[39my\n\u001b[1;32m     15\u001b[0m \u001b[38;5;28mprint\u001b[39m(divide(\u001b[38;5;241m1\u001b[39m,\u001b[38;5;241m2\u001b[39m))\n\u001b[0;32m---> 16\u001b[0m \u001b[38;5;28mprint\u001b[39m(\u001b[43mdivide\u001b[49m\u001b[43m(\u001b[49m\u001b[38;5;241;43m1\u001b[39;49m\u001b[43m,\u001b[49m\u001b[38;5;241;43m0\u001b[39;49m\u001b[43m)\u001b[49m)\n",
      "Cell \u001b[0;32mIn[36], line 11\u001b[0m, in \u001b[0;36mdivide\u001b[0;34m(x, y)\u001b[0m\n\u001b[1;32m     10\u001b[0m \u001b[38;5;28;01mdef\u001b[39;00m \u001b[38;5;21mdivide\u001b[39m(x,y):\n\u001b[0;32m---> 11\u001b[0m     \u001b[38;5;28;01massert\u001b[39;00m y \u001b[38;5;241m!=\u001b[39m \u001b[38;5;241m0\u001b[39m, \u001b[38;5;124m\"\u001b[39m\u001b[38;5;124mSorry, it is undefined\u001b[39m\u001b[38;5;124m\"\u001b[39m\n\u001b[1;32m     12\u001b[0m     \u001b[38;5;28;01mreturn\u001b[39;00m x\u001b[38;5;241m/\u001b[39my\n",
      "\u001b[0;31mAssertionError\u001b[0m: Sorry, it is undefined"
     ]
    }
   ],
   "source": [
    "def add(x,y):\n",
    "    return x+y\n",
    "\n",
    "def subtract(x,y):\n",
    "    return x-y\n",
    "\n",
    "def multiply(x,y):\n",
    "    return x*y\n",
    "\n",
    "def divide(x,y):\n",
    "    assert y != 0, \"Sorry, it is undefined\"\n",
    "    return x/y\n",
    "\n",
    "\n",
    "print(divide(1,2))\n",
    "print(divide(1,0))"
   ]
  },
  {
   "cell_type": "markdown",
   "id": "edfb1ac2",
   "metadata": {},
   "source": [
    "## Exercise 2 :  A better calculator II"
   ]
  },
  {
   "cell_type": "code",
   "execution_count": 35,
   "id": "9d20e0f7",
   "metadata": {},
   "outputs": [
    {
     "name": "stdout",
     "output_type": "stream",
     "text": [
      "Sorry i cant perform this division\n"
     ]
    }
   ],
   "source": [
    "def add(x,y):\n",
    "    return x+y\n",
    "\n",
    "def subtract(x,y):\n",
    "    return x-y\n",
    "\n",
    "def multiply(x,y):\n",
    "    return x*y\n",
    "\n",
    "def divide(x,y):\n",
    "    try:\n",
    "        return x/y\n",
    "    except:\n",
    "        return \"Sorry i cant perform this division\"\n",
    "\n",
    "\n",
    "print(divide(1,0))\n"
   ]
  }
 ],
 "metadata": {
  "kernelspec": {
   "display_name": "Python 3 (ipykernel)",
   "language": "python",
   "name": "python3"
  },
  "language_info": {
   "codemirror_mode": {
    "name": "ipython",
    "version": 3
   },
   "file_extension": ".py",
   "mimetype": "text/x-python",
   "name": "python",
   "nbconvert_exporter": "python",
   "pygments_lexer": "ipython3",
   "version": "3.10.8"
  },
  "toc": {
   "base_numbering": 1,
   "nav_menu": {},
   "number_sections": true,
   "sideBar": true,
   "skip_h1_title": false,
   "title_cell": "Table of Contents",
   "title_sidebar": "Contents",
   "toc_cell": false,
   "toc_position": {},
   "toc_section_display": true,
   "toc_window_display": false
  },
  "vscode": {
   "interpreter": {
    "hash": "31f2aee4e71d21fbe5cf8b01ff0e069b9275f58929596ceb00d14d90e3e16cd6"
   }
  }
 },
 "nbformat": 4,
 "nbformat_minor": 5
}
