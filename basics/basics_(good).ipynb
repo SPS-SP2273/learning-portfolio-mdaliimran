{
 "cells": [
  {
   "cell_type": "markdown",
   "id": "123456",
   "metadata": {},
   "source": [
    "<div style=\"text-align:left;font-size:2em\"><span style=\"font-weight:bolder;font-size:1.25em\">SP2273 | Learning Portfolio</span><br><br><span style=\"font-weight:bold;color:darkred\">Basics (Good)</span></div>"
   ]
  },
  {
   "cell_type": "markdown",
   "id": "af15c5e4",
   "metadata": {},
   "source": [
    "## 1 More Python Basics"
   ]
  },
  {
   "cell_type": "markdown",
   "id": "29bdc804",
   "metadata": {},
   "source": [
    "### 1.1 Computers read = from Right to Left!"
   ]
  },
  {
   "cell_type": "code",
   "execution_count": 3,
   "id": "3c5d1a70",
   "metadata": {},
   "outputs": [
    {
     "name": "stdout",
     "output_type": "stream",
     "text": [
      "6\n",
      "10\n"
     ]
    }
   ],
   "source": [
    "#Computers interpret the assignment operator from right to left\n",
    "\n",
    "x = 3\n",
    "y = x*2  #This will work in python but not maths\n",
    "\n",
    "print(y)\n",
    "\n",
    "y = x = 10  #We can do this as well\n",
    "\n",
    "print(y)\n",
    "\n",
    "\n",
    "\n"
   ]
  },
  {
   "cell_type": "markdown",
   "id": "2e817d9a",
   "metadata": {},
   "source": [
    "### 1.2 Shorter and cleaner"
   ]
  },
  {
   "cell_type": "code",
   "execution_count": 4,
   "id": "712a1621",
   "metadata": {},
   "outputs": [
    {
     "name": "stdout",
     "output_type": "stream",
     "text": [
      "2.2\n"
     ]
    }
   ],
   "source": [
    "#The shorthand syntax for updating the value of a variable allows us to code neater\n",
    "\n",
    "#Similar notations can be used for divison, subtraction and multiplication as well\n",
    "\n",
    "y = 10\n",
    "\n",
    "y += 2  #Same as y = y + 2\n",
    "\n",
    "y *= 2 #Same as y = y*2\n",
    "\n",
    "y -= 2 #Same as y = y - 2\n",
    "\n",
    "y /= 10 #Same as y = y / 10\n",
    "\n",
    "#According to this chain, the final value of y = ..\n",
    "\n",
    "print(y)\n"
   ]
  },
  {
   "cell_type": "markdown",
   "id": "3bcf14b8",
   "metadata": {},
   "source": [
    "### 1.3 Asking questions"
   ]
  },
  {
   "cell_type": "code",
   "execution_count": 6,
   "id": "c7681556",
   "metadata": {},
   "outputs": [
    {
     "name": "stdout",
     "output_type": "stream",
     "text": [
      "False\n",
      "True\n"
     ]
    }
   ],
   "source": [
    "#Given a list in python, we can use the \"in\" and \"not in\" syntax\n",
    "\n",
    "#If a value is in the list, it returns True. Otherwise, it returns False (For 'in' syntax)\n",
    "\n",
    "#If a value is not in the list, it returns True. Otherwise, it returns False (For 'not in' syntax)\n",
    "\n",
    "#You need to use python symbols when you want to ask questions. For example, '==' asks equals?\n",
    "\n",
    "#More examples: '>' asks greater than? '<=' asks smaller than or equals to?\n",
    "\n",
    "#The comparing can only work between similar data types.\n",
    "\n",
    "#We also can use the keywords 'and', 'or' & 'not'\n",
    "\n",
    "print( 3 >4 and 4 > 5)\n",
    "\n",
    "print( 3>4 or 5>4)\n",
    "\n",
    "\n"
   ]
  },
  {
   "cell_type": "markdown",
   "id": "241a6176",
   "metadata": {},
   "source": [
    "### 1.4 There is more to if"
   ]
  },
  {
   "cell_type": "code",
   "execution_count": 7,
   "id": "03d91daf",
   "metadata": {},
   "outputs": [
    {
     "name": "stdout",
     "output_type": "stream",
     "text": [
      "x is positive\n"
     ]
    }
   ],
   "source": [
    "#We can extend our branching by using elif\n",
    "\n",
    "x = 10\n",
    "\n",
    "if x > 0:\n",
    "    print(\"x is positive\")\n",
    "elif x < 0:\n",
    "    print(\"x is negative\")\n",
    "else:\n",
    "    print('x is zero')\n"
   ]
  },
  {
   "cell_type": "markdown",
   "id": "0073cc6a",
   "metadata": {},
   "source": [
    "### 1.5 Python stores information in different formats or types."
   ]
  },
  {
   "cell_type": "code",
   "execution_count": 12,
   "id": "ed592cea",
   "metadata": {},
   "outputs": [
    {
     "name": "stdout",
     "output_type": "stream",
     "text": [
      "3\n",
      "<class 'int'>\n",
      "23\n",
      "<class 'str'>\n",
      "3.0\n",
      "<class 'float'>\n",
      "(3+0j)\n",
      "<class 'complex'>\n"
     ]
    }
   ],
   "source": [
    "#int function drops the decimal point \n",
    "\n",
    "print(int(3.222))\n",
    "\n",
    "print(type(int(3.222)))\n",
    "\n",
    "#str function converts the data type to a string\n",
    "print(str(23))\n",
    "print(type(str(23)))\n",
    "\n",
    "#float function converts the data type to a decimal number\n",
    "\n",
    "print(float(3))\n",
    "print(type(float(3)))\n",
    "\n",
    "#complex function converts the data type to a complex number\n",
    "\n",
    "print(complex(3))\n",
    "print(type(complex(3)))\n",
    "\n",
    "\n",
    "#There are many other data types\n",
    "\n",
    "#Type casting is the process of converting a value from on edata type to another"
   ]
  },
  {
   "cell_type": "markdown",
   "id": "747f64b9",
   "metadata": {},
   "source": [
    "### 1.6 Combining English and variables"
   ]
  },
  {
   "cell_type": "code",
   "execution_count": 63,
   "id": "d98a0881",
   "metadata": {},
   "outputs": [
    {
     "name": "stdout",
     "output_type": "stream",
     "text": [
      "i have x dollars\n",
      "i have 10 dollars\n",
      "the value of 10 squared is 100\n",
      "                     30.77778                     \n",
      "              al              \n",
      "9.734400e+00\n",
      "  badboy  \n",
      "   bad    \n"
     ]
    }
   ],
   "source": [
    "x = 10\n",
    "\n",
    "print('i have x dollars') #We cannot print out 10 in this case. We solve this using f strings\n",
    "\n",
    "print(f'i have {x} dollars')\n",
    "\n",
    "print(f'the value of {x} squared is {x**2}')\n",
    "\n",
    "#As seen above, f strings allow us to perform operations or input variables\n",
    "\n",
    "#f string also allow us to format strings or numbers\n",
    "\n",
    "# This is the formatting structure --> {String or number:alignment_symbol#no.ofcharacters.#no.ofdecimals#specifies type of variable}\n",
    "\n",
    "#some examples below\n",
    "\n",
    "print(f'{30.777777:^50.5f}')\n",
    "\n",
    "print(f\"{'alphabet':^30.2s}\")\n",
    "\n",
    "print(f'{3.12**2:.6e}')   #You can also do this, where you skip formatting by just not writing anything between : and .\n",
    "\n",
    "print(f\"{'badboy':^10}\")  #You can also do this, where you skip rounding off by not writing a dot\n",
    "\n",
    "print(f\"{'badboy':^10.3s}\")  #Rounding off for strings is a way of trimming/slicing"
   ]
  },
  {
   "cell_type": "markdown",
   "id": "0b78aee6",
   "metadata": {},
   "source": [
    "### 1.7 Python can be a prima-donna."
   ]
  },
  {
   "cell_type": "code",
   "execution_count": 65,
   "id": "150b436e",
   "metadata": {},
   "outputs": [],
   "source": [
    "#python sends an error massage indicating the problem where appropriate\n",
    "\n",
    "#debugging is the process of fixing errors with codes\n",
    "\n",
    "#For example, Print('Hello') will give this error---> NameError: name 'Print' is not defined\n"
   ]
  },
  {
   "cell_type": "markdown",
   "id": "490054a5",
   "metadata": {},
   "source": [
    "## 2 Best Practices for Scientific Computing"
   ]
  },
  {
   "cell_type": "markdown",
   "id": "2fb132c1",
   "metadata": {},
   "source": [
    "### 2.1 Some tips"
   ]
  },
  {
   "cell_type": "code",
   "execution_count": null,
   "id": "51dced5b",
   "metadata": {},
   "outputs": [],
   "source": [
    "#When you write codes, be as simple as you can and make sure others are able to understand\n",
    "\n",
    "#Collaborate with others and seek their opinion on your codes\n",
    "\n",
    "#Dont focus on getting a perfect start, rather start small and simple, and then gradually add complexity\n",
    "\n",
    "#Optimize software only after it works correctly\n",
    "\n",
    "#Document design and purpose, not mechanics\n"
   ]
  },
  {
   "cell_type": "markdown",
   "id": "2ae1b535",
   "metadata": {},
   "source": [
    "### 2.2 Getting help."
   ]
  },
  {
   "cell_type": "code",
   "execution_count": 66,
   "id": "e30af8ba",
   "metadata": {},
   "outputs": [
    {
     "name": "stdout",
     "output_type": "stream",
     "text": [
      "\n",
      "Welcome to Python 3.10's help utility!\n",
      "\n",
      "If this is your first time using Python, you should definitely check out\n",
      "the tutorial on the internet at https://docs.python.org/3.10/tutorial/.\n",
      "\n",
      "Enter the name of any module, keyword, or topic to get help on writing\n",
      "Python programs and using Python modules.  To quit this help utility and\n",
      "return to the interpreter, just type \"quit\".\n",
      "\n",
      "To get a list of available modules, keywords, symbols, or topics, type\n",
      "\"modules\", \"keywords\", \"symbols\", or \"topics\".  Each module also comes\n",
      "with a one-line summary of what it does; to list the modules whose name\n",
      "or summary contain a given string such as \"spam\", type \"modules spam\".\n",
      "\n",
      "help> for\n",
      "The \"for\" statement\n",
      "*******************\n",
      "\n",
      "The \"for\" statement is used to iterate over the elements of a sequence\n",
      "(such as a string, tuple or list) or other iterable object:\n",
      "\n",
      "   for_stmt ::= \"for\" target_list \"in\" expression_list \":\" suite\n",
      "                [\"else\" \":\" suite]\n",
      "\n",
      "The expression list is evaluated once; it should yield an iterable\n",
      "object.  An iterator is created for the result of the\n",
      "\"expression_list\".  The suite is then executed once for each item\n",
      "provided by the iterator, in the order returned by the iterator.  Each\n",
      "item in turn is assigned to the target list using the standard rules\n",
      "for assignments (see Assignment statements), and then the suite is\n",
      "executed.  When the items are exhausted (which is immediately when the\n",
      "sequence is empty or an iterator raises a \"StopIteration\" exception),\n",
      "the suite in the \"else\" clause, if present, is executed, and the loop\n",
      "terminates.\n",
      "\n",
      "A \"break\" statement executed in the first suite terminates the loop\n",
      "without executing the \"else\" clause’s suite.  A \"continue\" statement\n",
      "executed in the first suite skips the rest of the suite and continues\n",
      "with the next item, or with the \"else\" clause if there is no next\n",
      "item.\n",
      "\n",
      "The for-loop makes assignments to the variables in the target list.\n",
      "This overwrites all previous assignments to those variables including\n",
      "those made in the suite of the for-loop:\n",
      "\n",
      "   for i in range(10):\n",
      "       print(i)\n",
      "       i = 5             # this will not affect the for-loop\n",
      "                         # because i will be overwritten with the next\n",
      "                         # index in the range\n",
      "\n",
      "Names in the target list are not deleted when the loop is finished,\n",
      "but if the sequence is empty, they will not have been assigned to at\n",
      "all by the loop.  Hint: the built-in function \"range()\" returns an\n",
      "iterator of integers suitable to emulate the effect of Pascal’s \"for i\n",
      ":= a to b do\"; e.g., \"list(range(3))\" returns the list \"[0, 1, 2]\".\n",
      "\n",
      "Related help topics: break, continue, while\n",
      "\n",
      "help> quit\n",
      "\n",
      "You are now leaving help and returning to the Python interpreter.\n",
      "If you want to ask for help on a particular object directly from the\n",
      "interpreter, you can type \"help(object)\".  Executing \"help('string')\"\n",
      "has the same effect as typing a particular string at the help> prompt.\n"
     ]
    }
   ],
   "source": [
    "#To get help on programming, you can use google, stack overflow or within python\n",
    "\n",
    "help()\n"
   ]
  },
  {
   "cell_type": "markdown",
   "id": "38605ed2",
   "metadata": {},
   "source": [
    "## Exercise 1 :  Bias for some heroes"
   ]
  },
  {
   "cell_type": "code",
   "execution_count": 81,
   "id": "3be56524",
   "metadata": {},
   "outputs": [
    {
     "name": "stdout",
     "output_type": "stream",
     "text": [
      "Hello BATMAN!\n",
      "Hello BLACK WIDOW!\n",
      "Hello aqua man!\n",
      "Hello BATMAN!\n",
      "Hello BLACK WIDOW!\n",
      "Hello aqua man!\n"
     ]
    }
   ],
   "source": [
    "def hello(name):\n",
    "    if name == 'Batman' or name == 'Black Widow':\n",
    "        print(f\"Hello {name.upper()}!\")\n",
    "    else:\n",
    "        print(f\"Hello {name.lower()}!\")\n",
    "\n",
    "\n",
    "hello('Batman')\n",
    "hello('Black Widow')\n",
    "hello('Aqua Man')\n",
    "\n",
    "def hello(name):\n",
    "    if name == 'Batman':\n",
    "        print(f\"Hello {name.upper()}!\")\n",
    "    elif name == 'Black Widow':\n",
    "        print(f\"Hello {name.upper()}!\")\n",
    "    else:\n",
    "        print(f\"Hello {name.lower()}!\")\n",
    "        \n",
    "hello('Batman')\n",
    "hello('Black Widow')\n",
    "hello('Aqua Man')"
   ]
  },
  {
   "cell_type": "markdown",
   "id": "d79a7ad2",
   "metadata": {},
   "source": [
    "## Exercise 2 :  Bias for some heroes, continues"
   ]
  },
  {
   "cell_type": "code",
   "execution_count": 82,
   "id": "86e90a0b",
   "metadata": {},
   "outputs": [
    {
     "name": "stdout",
     "output_type": "stream",
     "text": [
      "Hello batman!\n",
      "Hello batman!\n"
     ]
    }
   ],
   "source": [
    "hello('batman')\n",
    "hello('batMan') #Checking"
   ]
  },
  {
   "cell_type": "code",
   "execution_count": 89,
   "id": "190c414d",
   "metadata": {},
   "outputs": [
    {
     "name": "stdout",
     "output_type": "stream",
     "text": [
      "Hello BATMAN!\n",
      "Hello BATMAN!\n",
      "Hello BLACK WIDOW!\n",
      "Hello aqua man!\n",
      "Hello BATMAN!\n",
      "Hello BLACK WIDOW!\n",
      "Hello aqua man!\n"
     ]
    }
   ],
   "source": [
    "\n",
    "\n",
    "\n",
    "def hello(name):\n",
    "    if name.upper() == \"BATMAN\" or name.upper()== \"BLACK WIDOW\":\n",
    "        print(f\"Hello {name.upper()}!\")\n",
    "    else:\n",
    "        print(f\"Hello {name.lower()}!\")\n",
    "\n",
    "hello('batman')\n",
    "hello('batMan')\n",
    "hello('Black WIDow')\n",
    "hello('Aqua maN')\n",
    "\n",
    "def hello(name):\n",
    "    if name.upper() == 'BATMAN':\n",
    "        print(f\"Hello {name.upper()}!\")\n",
    "    elif name.upper() == 'BLACK WIDOW':\n",
    "        print(f\"Hello {name.upper()}!\")\n",
    "    else:\n",
    "        print(f\"Hello {name.lower()}!\")\n",
    "        \n",
    "hello('baTMAn')\n",
    "hello('black widow')\n",
    "hello('AQUA MAN')\n",
    "                \n"
   ]
  },
  {
   "cell_type": "markdown",
   "id": "313b2710",
   "metadata": {},
   "source": [
    "## Exercise 3 :  Look for help to replace"
   ]
  },
  {
   "cell_type": "code",
   "execution_count": 95,
   "id": "992cc13f",
   "metadata": {},
   "outputs": [
    {
     "name": "stdout",
     "output_type": "stream",
     "text": [
      "The Batman lives in gotham city.\n",
      "The Batman lives in gotham city\n"
     ]
    }
   ],
   "source": [
    "#Approach 1\n",
    "\n",
    "print(f'{\"The Joker lives in gotham city.\".replace(\"Joker\",\"Batman\")}')\n",
    "\n",
    "\n",
    "#Alternative approach\n",
    "\n",
    "sentence = \"The Joker lives in gotham city\"\n",
    "\n",
    "sentence = sentence.replace(\"Joker\", \"Batman\")\n",
    "\n",
    "print(sentence)"
   ]
  }
 ],
 "metadata": {
  "kernelspec": {
   "display_name": "Python 3 (ipykernel)",
   "language": "python",
   "name": "python3"
  },
  "language_info": {
   "codemirror_mode": {
    "name": "ipython",
    "version": 3
   },
   "file_extension": ".py",
   "mimetype": "text/x-python",
   "name": "python",
   "nbconvert_exporter": "python",
   "pygments_lexer": "ipython3",
   "version": "3.10.8"
  },
  "toc": {
   "base_numbering": 1,
   "nav_menu": {},
   "number_sections": true,
   "sideBar": true,
   "skip_h1_title": false,
   "title_cell": "Table of Contents",
   "title_sidebar": "Contents",
   "toc_cell": false,
   "toc_position": {},
   "toc_section_display": true,
   "toc_window_display": false
  },
  "vscode": {
   "interpreter": {
    "hash": "31f2aee4e71d21fbe5cf8b01ff0e069b9275f58929596ceb00d14d90e3e16cd6"
   }
  }
 },
 "nbformat": 4,
 "nbformat_minor": 5
}
