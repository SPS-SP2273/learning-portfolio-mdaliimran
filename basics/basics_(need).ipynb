{
 "cells": [
  {
   "cell_type": "markdown",
   "id": "123456",
   "metadata": {},
   "source": [
    "<div style=\"text-align:left;font-size:2em\"><span style=\"font-weight:bolder;font-size:1.25em\">SP2273 | Learning Portfolio</span><br><br><span style=\"font-weight:bold;color:darkred\">Basics (Need)</span></div>"
   ]
  },
  {
   "cell_type": "markdown",
   "id": "4d1e30e3",
   "metadata": {},
   "source": [
    "## 1 Some Python Basics"
   ]
  },
  {
   "cell_type": "markdown",
   "id": "98beddc0",
   "metadata": {},
   "source": [
    "### 1.1 Functions"
   ]
  },
  {
   "cell_type": "code",
   "execution_count": 1,
   "id": "d4ac4ddc",
   "metadata": {},
   "outputs": [
    {
     "name": "stdout",
     "output_type": "stream",
     "text": [
      "Hello world!\n"
     ]
    }
   ],
   "source": [
    "print(\"Hello world!\")\n",
    "\n"
   ]
  },
  {
   "cell_type": "markdown",
   "id": "fbeedcd0",
   "metadata": {},
   "source": [
    "### 1.2 Python is interpreted"
   ]
  },
  {
   "cell_type": "code",
   "execution_count": 2,
   "id": "61cb3b1f",
   "metadata": {},
   "outputs": [
    {
     "name": "stdout",
     "output_type": "stream",
     "text": [
      "Hello world\n",
      "Hello world again\n",
      "Hello world once more\n"
     ]
    }
   ],
   "source": [
    "print(\"Hello world\")\n",
    "\n",
    "print(\"Hello world again\")\n",
    "\n",
    "print(\"Hello world once more\")\n"
   ]
  },
  {
   "cell_type": "markdown",
   "id": "02982638",
   "metadata": {},
   "source": [
    "### 1.3 Python is sensitive."
   ]
  },
  {
   "cell_type": "code",
   "execution_count": 3,
   "id": "493fbc72",
   "metadata": {},
   "outputs": [
    {
     "name": "stdout",
     "output_type": "stream",
     "text": [
      "Hello world\n"
     ]
    }
   ],
   "source": [
    "print(\"Hello world\") #this is fine\n",
    "\n",
    "#Print(\"Hello world\") this is not fine because python is case sensitive so print() != Print()"
   ]
  },
  {
   "cell_type": "markdown",
   "id": "6c0fa883",
   "metadata": {},
   "source": [
    "### 1.4 Comments"
   ]
  },
  {
   "cell_type": "code",
   "execution_count": 5,
   "id": "a2ac8cd0",
   "metadata": {},
   "outputs": [],
   "source": [
    "#You can insert a comment by adding a hashtag before the 'code'. \n",
    "\n",
    "#Python does not read comments and ignores it.\n",
    "\n",
    "#Comments can be useful to highlight aspects of the codes that might not be obvious\n",
    "\n",
    "#The addition of unecessary comments may cause clutter, resulting in difficulty to read the code\n",
    "\n",
    "#All programming languages offers the feauture of writing comments\n"
   ]
  },
  {
   "cell_type": "markdown",
   "id": "c2b8bcba",
   "metadata": {},
   "source": [
    "### 1.5 = is not the same as =="
   ]
  },
  {
   "cell_type": "code",
   "execution_count": 6,
   "id": "d01a0c24",
   "metadata": {},
   "outputs": [
    {
     "data": {
      "text/plain": [
       "True"
      ]
     },
     "execution_count": 6,
     "metadata": {},
     "output_type": "execute_result"
    }
   ],
   "source": [
    "# '=' is the assignment operator. It is used to set something equal\n",
    "\n",
    "# '==' is to check whether something is equal\n",
    "\n",
    "number = 42   #This assigns the variable number to hold a value of 42\n",
    "\n",
    "number == 42  #This is asking if number is equals to 42. In this case, the answer is True\n"
   ]
  },
  {
   "cell_type": "markdown",
   "id": "1cab47ff",
   "metadata": {},
   "source": [
    "### 1.6 Use if to make decisions"
   ]
  },
  {
   "cell_type": "code",
   "execution_count": 8,
   "id": "7822c1aa",
   "metadata": {},
   "outputs": [
    {
     "name": "stdout",
     "output_type": "stream",
     "text": [
      "number is not 4\n"
     ]
    }
   ],
   "source": [
    "#if/else statements can be used to branch out codes\n",
    "\n",
    "#Something will be executed given the if condition is true and something else will be executed if it is not\n",
    "\n",
    "#Remember to add the ':' and be mindful of the indentation\n",
    "\n",
    "number = 3\n",
    "if number == 4:\n",
    "    print(\"number is 4\")\n",
    "else:\n",
    "    print(\"number is not 4\")\n"
   ]
  },
  {
   "cell_type": "markdown",
   "id": "858951a1",
   "metadata": {},
   "source": [
    "### 1.7 Indentations (spaces) are sooo IMPORTANT!"
   ]
  },
  {
   "cell_type": "code",
   "execution_count": 9,
   "id": "d3b96136",
   "metadata": {},
   "outputs": [
    {
     "name": "stdout",
     "output_type": "stream",
     "text": [
      "10\n"
     ]
    }
   ],
   "source": [
    "#Do not add indentations indiscriminately as it will confuse python\n",
    "\n",
    "#Indentations play a crucial role in Python\n",
    "\n",
    "#Try to use the tab key instead of space key when indenting and be consistent with it\n",
    "\n",
    "x = 10\n",
    "print(x)\n",
    "\n",
    "# print(x) this will not work\n"
   ]
  },
  {
   "cell_type": "markdown",
   "id": "474990b4",
   "metadata": {},
   "source": [
    "### 1.8 ‘age’ is English, age is a variable."
   ]
  },
  {
   "cell_type": "code",
   "execution_count": 11,
   "id": "b3f35564",
   "metadata": {},
   "outputs": [
    {
     "name": "stdout",
     "output_type": "stream",
     "text": [
      "21\n",
      "age\n"
     ]
    }
   ],
   "source": [
    "#Variables are things that can hold information\n",
    "\n",
    "#Python keywords cannot be used as the variable names\n",
    "\n",
    "#Try to be more specific and descriptive with the variable name for ease\n",
    "\n",
    "age = 21 #assigning the variable age to the value 21\n",
    "\n",
    "print(age) #Using the print function to print the value of the variable age\n",
    "\n",
    "print('age') #print the string 'age'\n",
    "\n",
    "#For strings, it is needed to use matching pairs for quotation marks"
   ]
  },
  {
   "cell_type": "markdown",
   "id": "f743e94c",
   "metadata": {},
   "source": [
    "### 1.9 Escape sequences"
   ]
  },
  {
   "cell_type": "code",
   "execution_count": 2,
   "id": "6db2f21f",
   "metadata": {},
   "outputs": [
    {
     "name": "stdout",
     "output_type": "stream",
     "text": [
      "\\\n",
      "''\n",
      "a\n",
      "b\n",
      "a\tb\n"
     ]
    }
   ],
   "source": [
    "#Escape characters are characters that are usually not permissible in a string, like \"\\\", \" ' '\", etcc\n",
    "\n",
    "#To indicate an escape character, use \"\\\" followed by the character\n",
    "\n",
    "print(\"\\\\\") #To print a backslash\n",
    "\n",
    "print(\"\\''\") #To print a single quote\n",
    "\n",
    "print(\"a\\nb\") #To add a new line\n",
    "\n",
    "print(\"a\\tb\") #To insert a horizontal tab\n"
   ]
  },
  {
   "cell_type": "markdown",
   "id": "071a3dce",
   "metadata": {},
   "source": [
    "### 1.10 Brackets"
   ]
  },
  {
   "cell_type": "code",
   "execution_count": 10,
   "id": "f5896434",
   "metadata": {},
   "outputs": [
    {
     "name": "stdout",
     "output_type": "stream",
     "text": [
      "Like this print function\n",
      "15\n",
      "[1, 2, 3, 4]\n",
      "[[1, 2, 3, 4], [5, 6, 7, 8]]\n",
      "{'Name': 'Max', 'Height': 190, 'Age': 24, 'Occupation': 'Student'}\n",
      "190\n"
     ]
    }
   ],
   "source": [
    "# () are used in calls for function and to perfrom maths\n",
    "\n",
    "print(\"Like this print function\")\n",
    "\n",
    "print(1+2+3+4+5)\n",
    "\n",
    "# [] are used for lists of data\n",
    "\n",
    "#Lists have dimensions\n",
    "\n",
    "list_1 = [1,2,3,4]     #1d list\n",
    "list_2 = [5,6,7, 8]    #1d list\n",
    "\n",
    "print(list_1)\n",
    "\n",
    "list_3 = [[1,2,3,4],[5,6,7,8]]  #2d list\n",
    "\n",
    "print(list_3)\n",
    "\n",
    "# {} are used for dictionaries. They store data in the form of key:value pair\n",
    "\n",
    "Information_Max = {'Name':'Max','Height':190,'Age':24,'Occupation':'Student'}\n",
    "\n",
    "print(Information_Max)\n",
    "\n",
    "#Dictionary is useful because we can neatly access the value by using the key\n",
    "\n",
    "print(Information_Max['Height'])"
   ]
  },
  {
   "cell_type": "markdown",
   "id": "33e1f57e",
   "metadata": {},
   "source": [
    "## 2 Giving Python superpowers"
   ]
  },
  {
   "cell_type": "markdown",
   "id": "49ee9dd4",
   "metadata": {},
   "source": [
    "### 2.1 Packages"
   ]
  },
  {
   "cell_type": "code",
   "execution_count": 7,
   "id": "83161881",
   "metadata": {},
   "outputs": [
    {
     "name": "stdout",
     "output_type": "stream",
     "text": [
      "2.0\n",
      "4.0\n"
     ]
    }
   ],
   "source": [
    "#We can import packages into python to add increase the function capacity of python\n",
    "\n",
    "#for example, sqrt(4) will give an error but..\n",
    "\n",
    "import math\n",
    "\n",
    "print(math.sqrt(4))  #you can use the square root function now\n",
    "\n",
    "#Another useful math package is numpy. We can import numpy as np to ease our typing\n",
    "\n",
    "import numpy as np\n",
    "\n",
    "print(np.sqrt(16))\n",
    "\n",
    "#Different packages may provide the same functions with different capabilities. \n",
    "#For example, sqrt function in numpy allows the argument to be a list\n",
    "\n",
    "#You only need to import once, unless you restart the interpreter\n",
    "\n",
    "#There are many ways to import packages"
   ]
  },
  {
   "cell_type": "markdown",
   "id": "5b579087",
   "metadata": {},
   "source": [
    "### 2.2 The dot (.)"
   ]
  },
  {
   "cell_type": "code",
   "execution_count": 18,
   "id": "917a725c",
   "metadata": {},
   "outputs": [
    {
     "name": "stdout",
     "output_type": "stream",
     "text": [
      "2.0\n",
      "6\n",
      "2.0\n",
      "['whoops', 'i', 'did', 'it', 'again']\n"
     ]
    }
   ],
   "source": [
    "#The dot is to indicate ownership\n",
    "\n",
    "print(np.sqrt(4))\n",
    "\n",
    "print(np.sum([1,2,3]))\n",
    "\n",
    "print(np.mean([1,2,3]))\n",
    "\n",
    "#All data types in python have functions only meant for them\n",
    "\n",
    "#For example, the split function can be used for strings but not numbers\n",
    "\n",
    "print('whoops i did it again'.split())\n",
    "\n",
    "#print(123.split())  ---> This will be an error \n",
    "\n",
    "#The things that can be accessed using the dot depend on what the dot is attached to"
   ]
  },
  {
   "cell_type": "markdown",
   "id": "7da06bde",
   "metadata": {},
   "source": [
    "## Exercise 1 :  Total recall?"
   ]
  },
  {
   "cell_type": "markdown",
   "id": "44e78fa3",
   "metadata": {},
   "source": [
    "1. Functions\n",
    "2. Sensitivity\n",
    "3. Comments\n",
    "4. = vs ==\n",
    "5. Brackets\n",
    "6. Packages\n",
    "7. Dots\n",
    "\n",
    "---\n",
    "\n",
    "1. *Python is interpreted*\n",
    "2. *Use if to make decisions*\n",
    "3. *Indentations*\n",
    "4. *Variables*\n",
    "\n",
    "\n"
   ]
  },
  {
   "cell_type": "markdown",
   "id": "2273fcf0",
   "metadata": {},
   "source": [
    "## Exercise 2 :  Debug me"
   ]
  },
  {
   "cell_type": "code",
   "execution_count": 20,
   "id": "02293120",
   "metadata": {},
   "outputs": [
    {
     "name": "stdout",
     "output_type": "stream",
     "text": [
      "3 4 5\n"
     ]
    }
   ],
   "source": [
    "x ,y = 3, 4\n",
    "\n",
    "z = math.sqrt(x**2 + y**2)\n",
    "\n",
    "z = int(z)\n",
    "\n",
    "print(x,y,z)\n",
    "\n",
    "\n"
   ]
  },
  {
   "cell_type": "markdown",
   "id": "5377e4f4",
   "metadata": {},
   "source": [
    "## Exercise 3 :  In your own words"
   ]
  },
  {
   "cell_type": "markdown",
   "id": "4f205681",
   "metadata": {},
   "source": [
    "| # | Term | Description |\n",
    "|:----|:----:|----:|\n",
    "|1| Function | A function performs a specific task for us |\n",
    "|2 | Arguments | An argument is a parameter that defines a function |\n",
    "|3 | Comments | Comments are additional comment not runned by python |\n",
    "|4 | Indentations | Indentations are used to sepearate code blocks |\n",
    "|5 | Packages | Packages contain useful functions to increase the 'power' of python |\n",
    "|6 | `.`| The dot indicates ownership |\n",
    "\n",
    "\n"
   ]
  },
  {
   "cell_type": "markdown",
   "id": "4a9f5be9",
   "metadata": {},
   "source": [
    "## Exercise 4 :  More than one way to divide"
   ]
  },
  {
   "cell_type": "code",
   "execution_count": 21,
   "id": "e17bfba1",
   "metadata": {},
   "outputs": [
    {
     "name": "stdout",
     "output_type": "stream",
     "text": [
      "2.5\n",
      "2\n",
      "1\n"
     ]
    }
   ],
   "source": [
    "print(5/2) #Performs the division of 5 over 2 and returns a float type. In this case, the answer is 2.5\n",
    "\n",
    "print(5//2) #Performs the floor division, returns the largest integer smaller than or equal to 2.5. The answer is 2\n",
    "\n",
    "print(5%2) #Outputs the remainder of the division. In this case, the remainder is 1\n",
    "\n"
   ]
  }
 ],
 "metadata": {
  "kernelspec": {
   "display_name": "Python 3 (ipykernel)",
   "language": "python",
   "name": "python3"
  },
  "language_info": {
   "codemirror_mode": {
    "name": "ipython",
    "version": 3
   },
   "file_extension": ".py",
   "mimetype": "text/x-python",
   "name": "python",
   "nbconvert_exporter": "python",
   "pygments_lexer": "ipython3",
   "version": "3.10.8"
  },
  "toc": {
   "base_numbering": 1,
   "nav_menu": {},
   "number_sections": true,
   "sideBar": true,
   "skip_h1_title": false,
   "title_cell": "Table of Contents",
   "title_sidebar": "Contents",
   "toc_cell": false,
   "toc_position": {},
   "toc_section_display": true,
   "toc_window_display": false
  },
  "vscode": {
   "interpreter": {
    "hash": "31f2aee4e71d21fbe5cf8b01ff0e069b9275f58929596ceb00d14d90e3e16cd6"
   }
  }
 },
 "nbformat": 4,
 "nbformat_minor": 5
}
